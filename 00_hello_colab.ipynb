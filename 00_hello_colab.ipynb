{
  "nbformat": 4,
  "nbformat_minor": 0,
  "metadata": {
    "colab": {
      "provenance": [],
      "authorship_tag": "ABX9TyMj3Eog6FJeUm2jYVOZxqjS"
    },
    "kernelspec": {
      "name": "python3",
      "display_name": "Python 3"
    },
    "language_info": {
      "name": "python"
    }
  },
  "cells": [
    {
      "cell_type": "markdown",
      "source": [
        "[Google Colab](https://colab.research.google.com/) is a hosted Jupyter notebook environment that allows anyone to run Python code via a web-browser. It provides you free computation and data storage that can be utilized by your Python code.\n",
        "\n",
        "You can click the `+Code` button to create a new cell and enter a block of code. To run the code, click the **Run Code** button next to the cell, or press `Shirt+Enter` key."
      ],
      "metadata": {
        "id": "ceEx-y9nSS2w"
      }
    },
    {
      "cell_type": "code",
      "execution_count": null,
      "metadata": {
        "colab": {
          "base_uri": "https://localhost:8080/"
        },
        "id": "f_43xbJERpr5",
        "outputId": "5b9ee65a-6ae9-4297-b843-c6eecb37bf28"
      },
      "outputs": [
        {
          "output_type": "stream",
          "name": "stdout",
          "text": [
            "Hello World\n"
          ]
        }
      ],
      "source": [
        "print('Hello World')"
      ]
    },
    {
      "cell_type": "markdown",
      "source": [
        "### Package Management"
      ],
      "metadata": {
        "id": "xjhxNMwMWnVO"
      }
    },
    {
      "cell_type": "markdown",
      "source": [
        "Colab comes pre-installed with many Python packages. You can use a package by simply importing it."
      ],
      "metadata": {
        "id": "bWFPnmZiTjnU"
      }
    },
    {
      "cell_type": "code",
      "source": [
        "import pandas as pd"
      ],
      "metadata": {
        "id": "aGpVqvmtTgKe"
      },
      "execution_count": null,
      "outputs": []
    },
    {
      "cell_type": "markdown",
      "source": [
        "Each Colab notebook instance is run on a Ubuntu Linux machine in the cloud. If you want to install any packages, you can run a command by prefixing the command with a `!`. For example, you can install third-party packages via `pip` using the command `!pip`.\n",
        "\n",
        "> Tip: If you want to list all pre-install packages and their versions in your Colab environemnt, you can run `!pip list -v`."
      ],
      "metadata": {
        "id": "Y3VsOFzhT0Do"
      }
    },
    {
      "cell_type": "code",
      "source": [
        "!pip install --quiet rioxarray"
      ],
      "metadata": {
        "id": "MW-ZJkPlTzI2"
      },
      "execution_count": null,
      "outputs": []
    },
    {
      "cell_type": "code",
      "source": [
        "import rioxarray"
      ],
      "metadata": {
        "id": "mCD2S6v2Txsh"
      },
      "execution_count": null,
      "outputs": []
    },
    {
      "cell_type": "markdown",
      "source": [
        "Some packages may also require additional binaries or local configuration. This can be achieved using package management commands for Ubuntu Linux. For example, we can run `apt` command to install specific package required for `geopandas` to work correctly."
      ],
      "metadata": {
        "id": "LuI3nFTrVTMK"
      }
    },
    {
      "cell_type": "code",
      "source": [
        "!apt install -qq libspatialindex-dev\n",
        "!pip install --quiet fiona shapely pyproj rtree\n",
        "!pip install --quiet geopandas"
      ],
      "metadata": {
        "colab": {
          "base_uri": "https://localhost:8080/"
        },
        "id": "9F6q8qXaVP7s",
        "outputId": "a1a6a724-2a68-430e-d7a8-6deb61ef39a1"
      },
      "execution_count": null,
      "outputs": [
        {
          "output_type": "stream",
          "name": "stdout",
          "text": [
            "libspatialindex-dev is already the newest version (1.8.5-5).\n",
            "The following package was automatically installed and is no longer required:\n",
            "  libnvidia-common-460\n",
            "Use 'apt autoremove' to remove it.\n",
            "0 upgraded, 0 newly installed, 0 to remove and 20 not upgraded.\n"
          ]
        }
      ]
    },
    {
      "cell_type": "code",
      "source": [
        "import geopandas as gpd"
      ],
      "metadata": {
        "id": "yP_AfGxnWd5H"
      },
      "execution_count": null,
      "outputs": []
    },
    {
      "cell_type": "markdown",
      "source": [
        "### Data Management"
      ],
      "metadata": {
        "id": "RZdVNzPaWqN-"
      }
    },
    {
      "cell_type": "markdown",
      "source": [
        "Colab provides 100GB of disk space along with your notebook. This can be used to store your data, intermediate outputs and results. \n",
        "\n",
        "The code below will create 2 folders named 'data' and 'output' in your local filesystem."
      ],
      "metadata": {
        "id": "XqhJNBE1WwQP"
      }
    },
    {
      "cell_type": "code",
      "source": [
        "import os\n",
        "\n",
        "data_folder = 'data'\n",
        "output_folder = 'output'\n",
        "\n",
        "if not os.path.exists(data_folder):\n",
        "    os.mkdir(data_folder)\n",
        "if not os.path.exists(output_folder):\n",
        "    os.mkdir(output_folder)"
      ],
      "metadata": {
        "id": "olSHRvf1WvkW"
      },
      "execution_count": null,
      "outputs": []
    },
    {
      "cell_type": "markdown",
      "source": [
        "We can download some data from the internet and store it in the Colab environment. Below is a helper function that uses `urllib` to fetch any file from a URL."
      ],
      "metadata": {
        "id": "fLh0NSLgXXdj"
      }
    },
    {
      "cell_type": "code",
      "source": [
        "def download(url):\n",
        "    filename = os.path.join(data_folder, os.path.basename(url))\n",
        "    if not os.path.exists(filename):\n",
        "        from urllib.request import urlretrieve\n",
        "        local, _ = urlretrieve(url, filename)\n",
        "        print('Downloaded ' + local)"
      ],
      "metadata": {
        "id": "mj-PAdjzWsHv"
      },
      "execution_count": null,
      "outputs": []
    },
    {
      "cell_type": "markdown",
      "source": [
        "Let's download the [Populated Places](https://www.naturalearthdata.com/downloads/10m-cultural-vectors/) dataset from Natural Earth."
      ],
      "metadata": {
        "id": "cwqVMovqXr-k"
      }
    },
    {
      "cell_type": "code",
      "source": [
        "download('https://naciscdn.org/naturalearth/10m/cultural/' + \n",
        "         'ne_10m_populated_places_simple.zip')"
      ],
      "metadata": {
        "colab": {
          "base_uri": "https://localhost:8080/"
        },
        "id": "m-Zh7-XZXqSr",
        "outputId": "a24dfac2-aaf5-413b-a308-c505b44f6be9"
      },
      "execution_count": null,
      "outputs": [
        {
          "output_type": "stream",
          "name": "stdout",
          "text": [
            "Downloaded data/ne_10m_populated_places_simple.zip\n"
          ]
        }
      ]
    },
    {
      "cell_type": "markdown",
      "source": [
        "The file is now in our local filesystem. We can construct the path to the data folder and read it using `geopandas`"
      ],
      "metadata": {
        "id": "yUdH_Hm5Y45w"
      }
    },
    {
      "cell_type": "code",
      "source": [
        "file = 'ne_10m_populated_places_simple.zip'\n",
        "filepath = os.path.join(data_folder, file)\n",
        "places = gpd.read_file(filepath)"
      ],
      "metadata": {
        "id": "VCYS8SlSYCkk"
      },
      "execution_count": null,
      "outputs": []
    },
    {
      "cell_type": "markdown",
      "source": [
        "Let's do some data processing and write the results to a new file. The code below will filter all places which are also country capitals."
      ],
      "metadata": {
        "id": "3kaEfDKPZKxo"
      }
    },
    {
      "cell_type": "code",
      "source": [
        "capitals = places[places['adm0cap'] == 1]\n",
        "capitals"
      ],
      "metadata": {
        "id": "TN71a2vPYjma"
      },
      "execution_count": null,
      "outputs": []
    },
    {
      "cell_type": "markdown",
      "source": [
        "We can write the results to the disk as a GeoPackage file."
      ],
      "metadata": {
        "id": "aF3glHG_ZY4K"
      }
    },
    {
      "cell_type": "code",
      "source": [
        "output_file = 'capitals.gpkg'\n",
        "output_path = os.path.join(output_folder, output_file)\n",
        "capitals.to_file(driver='GPKG', filename=output_path)"
      ],
      "metadata": {
        "id": "60Wc8XblY1XY"
      },
      "execution_count": null,
      "outputs": []
    },
    {
      "cell_type": "markdown",
      "source": [
        "You can open the **Files** tab from the left-hand panel in Colab and browse to the `output` folder. Locate the `capitals.gpkg` file and click the **⋮** button and select *Download* to download the file locally."
      ],
      "metadata": {
        "id": "jVEALmycZrpM"
      }
    }
  ]
}