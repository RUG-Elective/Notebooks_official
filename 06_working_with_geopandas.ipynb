{
 "cells": [
  {
   "cell_type": "markdown",
   "metadata": {},
   "source": [
    "# Working with Geopandas"
   ]
  },
  {
   "cell_type": "markdown",
   "metadata": {},
   "source": [
    "![](images/python_foundation/geopandas.png)\n",
    "\n",
    "\n",
    "GeoPandas extends the Pandas library to enable spatial operations. It provides new data types such as **GeoDataFrame** and **GeoSeries** which are subclasses of Pandas **DataFrame** and **Series** and enables efficient vector data processing in Python.\n",
    "\n",
    "\n",
    "GeoPandas make use of many other widely used spatial libraries - but it provides an interface similar to Pandas that make it intuitive to use it with spatial analysis. GeoPandas is built on top of the following libraries that allow it to be spatially aware.\n",
    "\n",
    "- [Shapely](https://shapely.readthedocs.io/en/latest/manual.html) for geometric operations (i.e. buffer, intersections etc.)\n",
    "- [PyProj](https://pyproj4.github.io/pyproj/stable/index.html) for working with projections\n",
    "- [Fiona](https://pypi.org/project/Fiona/) for file input and output, which itself is based on the widely used [GDAL/OGR](https://gdal.org/) library\n",
    "\n",
    "We will carry out a geoprocessing task that shows various features of this library and show how to do geo data processing in Python. The task is to take a roads data layer from OpenStreetMap and compute the total length of National Highways for each district in a state. The problem is described in detail in my [Advanced QGIS](https://courses.spatialthoughts.com/advanced-qgis.html#exercise-find-the-length-of-national-highways-in-a-state) course and show the steps needed to perform this analysis in QGIS. We will replicate this example in Python.\n",
    "\n",
    "![](images/python_foundation/karnataka.png)\n"
   ]
  },
  {
   "cell_type": "markdown",
   "metadata": {},
   "source": [
    "By convention, `geopandas` is commonly imported as `gpd`"
   ]
  },
  {
   "cell_type": "code",
   "execution_count": 1,
   "metadata": {},
   "outputs": [],
   "source": [
    "import geopandas as gpd"
   ]
  },
  {
   "cell_type": "markdown",
   "metadata": {},
   "source": [
    "## Reading Spatial Data"
   ]
  },
  {
   "cell_type": "code",
   "execution_count": 8,
   "metadata": {},
   "outputs": [],
   "source": [
    "import os\n",
    "#data_pkg_path ='data'\n",
    "data_pkg_path =r'C:\\Users\\Stathis\\3.PYTHON_ELECTIVE\\SPATIALTHOUGHTS\\courses-master\\Data\\python_foundation\\data'\n",
    "filename = 'karnataka.gpkg'\n",
    "path = os.path.join(data_pkg_path, filename)"
   ]
  },
  {
   "cell_type": "markdown",
   "metadata": {},
   "source": [
    "GeoPandas has a `read_file()` method that is able to open a wide variety of vector datasets, including zip files. Here we will open the GeoPackage `karnataka.gpkg` and read a layer called `karnataka_major_roads`. The result of the read method is a **GeoDataFrame**. "
   ]
  },
  {
   "cell_type": "code",
   "execution_count": 9,
   "metadata": {},
   "outputs": [
    {
     "name": "stdout",
     "output_type": "stream",
     "text": [
      "<class 'geopandas.geodataframe.GeoDataFrame'>\n",
      "RangeIndex: 44606 entries, 0 to 44605\n",
      "Data columns (total 11 columns):\n",
      " #   Column    Non-Null Count  Dtype   \n",
      "---  ------    --------------  -----   \n",
      " 0   osm_id    44606 non-null  object  \n",
      " 1   code      44606 non-null  int64   \n",
      " 2   fclass    44606 non-null  object  \n",
      " 3   name      7018 non-null   object  \n",
      " 4   ref       7702 non-null   object  \n",
      " 5   oneway    44606 non-null  object  \n",
      " 6   maxspeed  44606 non-null  int64   \n",
      " 7   layer     44606 non-null  int64   \n",
      " 8   bridge    44606 non-null  object  \n",
      " 9   tunnel    44606 non-null  object  \n",
      " 10  geometry  44606 non-null  geometry\n",
      "dtypes: geometry(1), int64(3), object(7)\n",
      "memory usage: 3.7+ MB\n",
      "None\n"
     ]
    }
   ],
   "source": [
    "roads_gdf = gpd.read_file(path, layer='karnataka_major_roads')\n",
    "print(roads_gdf.info())"
   ]
  },
  {
   "cell_type": "markdown",
   "metadata": {},
   "source": [
    "A GeoDataFrame contains a special column called *geometry*. All spatial operations on the GeoDataFrame are applied to the geomety column. The geometry column can be accessed using the `geometry` attribute."
   ]
  },
  {
   "cell_type": "code",
   "execution_count": 10,
   "metadata": {},
   "outputs": [
    {
     "name": "stdout",
     "output_type": "stream",
     "text": [
      "0        MULTILINESTRING ((77.59928 12.97672, 77.59950 ...\n",
      "1        MULTILINESTRING ((76.65944 12.31809, 76.65904 ...\n",
      "2        MULTILINESTRING ((76.65906 12.31389, 76.65912 ...\n",
      "3        MULTILINESTRING ((76.65600 12.30895, 76.65646 ...\n",
      "4        MULTILINESTRING ((76.65615 12.30989, 76.65600 ...\n",
      "                               ...                        \n",
      "44601    MULTILINESTRING ((77.60806 12.97517, 77.60797 ...\n",
      "44602    MULTILINESTRING ((77.60798 12.97519, 77.60806 ...\n",
      "44603    MULTILINESTRING ((77.57115 13.00849, 77.57156 ...\n",
      "44604    MULTILINESTRING ((77.70140 12.95693, 77.70164 ...\n",
      "44605    MULTILINESTRING ((77.61040 12.97360, 77.61052 ...\n",
      "Name: geometry, Length: 44606, dtype: geometry\n"
     ]
    }
   ],
   "source": [
    "print(roads_gdf.geometry)"
   ]
  },
  {
   "cell_type": "markdown",
   "metadata": {},
   "source": [
    "## Filtering Data\n",
    "\n",
    "One can use the standard Pandas filtering methods to select a subset of the GeoDataFrame. In addition, GeoPandas also provide way to subset the data based on a bounding box with the [`cx[]` indexer](https://geopandas.readthedocs.io/en/latest/indexing.html).\n",
    "\n",
    "For our analysis, we need to apply a filter to extract only the road segments where the `ref` attribute starts with **'NH'** - indicating a national highway. We can apply boolean filtering using Panda's `str.match()` method with a regular expression."
   ]
  },
  {
   "cell_type": "code",
   "execution_count": 11,
   "metadata": {},
   "outputs": [
    {
     "name": "stdout",
     "output_type": "stream",
     "text": [
      "      osm_id  code fclass                        name    ref oneway  maxspeed  \\\n",
      "17   8684837  5112  trunk  Bengaluru - Mangaluru Road  NH373      F         0   \n",
      "26   9951034  5112  trunk                        None  NH948      B        50   \n",
      "54  22838314  5112  trunk   Solapur-Mangalore Highway  NH169      B         0   \n",
      "55  22838318  5112  trunk                        None   NH66      B         0   \n",
      "56  22838318  5112  trunk                        None   NH66      B         0   \n",
      "\n",
      "    layer bridge tunnel                                           geometry  \n",
      "17      0      F      F  MULTILINESTRING ((76.10024 13.00326, 76.09950 ...  \n",
      "26      0      F      F  MULTILINESTRING ((77.16472 12.24774, 77.16416 ...  \n",
      "54      0      F      F  MULTILINESTRING ((74.86387 12.88387, 74.86419 ...  \n",
      "55      0      F      F  MULTILINESTRING ((74.78756 13.09142, 74.78744 ...  \n",
      "56      0      F      F  MULTILINESTRING ((74.78767 13.09723, 74.78767 ...  \n"
     ]
    }
   ],
   "source": [
    "filtered = roads_gdf[roads_gdf['ref'].str.match('^NH') == True]\n",
    "print(filtered.head())"
   ]
  },
  {
   "cell_type": "markdown",
   "metadata": {},
   "source": [
    "## Working with Projections\n",
    "\n",
    "Dealing with projetions is a key aspect of working with spatial data. GeoPandas uses the `pyproj` library to assign and manage projections. Each GeoDataFrame as a `crs` attribute that contains the projection info. Our source dataset is in EPSG:4326 WGS84 CRS."
   ]
  },
  {
   "cell_type": "code",
   "execution_count": null,
   "metadata": {},
   "outputs": [],
   "source": [
    "print(filtered.crs)"
   ]
  },
  {
   "cell_type": "markdown",
   "metadata": {},
   "source": [
    "Since our task is to compute line lengths, we need to use a Projected CRS. We can use the `to_crs()` method to reproject the GeoDataFrame."
   ]
  },
  {
   "cell_type": "code",
   "execution_count": null,
   "metadata": {},
   "outputs": [],
   "source": [
    "roads_reprojected = filtered.to_crs('EPSG:32643')\n",
    "print(roads_reprojected.crs)"
   ]
  },
  {
   "cell_type": "markdown",
   "metadata": {},
   "source": [
    "Now that the layer has been reprojected, we can calculate the length of each geometry using the `length` attribute. The result would be in meters. We can add the line lengths in a new column named `length`."
   ]
  },
  {
   "cell_type": "code",
   "execution_count": null,
   "metadata": {},
   "outputs": [],
   "source": [
    "roads_reprojected['length'] = roads_reprojected['geometry'].length"
   ]
  },
  {
   "cell_type": "markdown",
   "metadata": {},
   "source": [
    "We can apply statistical operations on a DataFrame columns. Here we can compute the total length of national highways in the state by calling the `sum()` method."
   ]
  },
  {
   "cell_type": "code",
   "execution_count": null,
   "metadata": {},
   "outputs": [],
   "source": [
    "total_length = roads_reprojected['length'].sum()\n",
    "print('Total length of national highways in the state is {} KM'.format(total_length/1000))"
   ]
  },
  {
   "cell_type": "markdown",
   "metadata": {},
   "source": [
    "## Performing Spatial joins\n",
    "\n",
    "There are two ways to combine datasets in geopandas – table joins and spatial joins. For our task, we need information about which district each road segments belongs to. This can be achived using another spatial layer for the districts and doing a spatial join to transfer the attributes of the district layer to the matching road segment.\n",
    "\n",
    "The `karnataka.gpkg` contains a layer called `karnataka_districts` with the district boundaries and names."
   ]
  },
  {
   "cell_type": "code",
   "execution_count": null,
   "metadata": {},
   "outputs": [],
   "source": [
    "districts_gdf = gpd.read_file(path, layer='karnataka_districts')\n",
    "print(districts_gdf.head())"
   ]
  },
  {
   "cell_type": "markdown",
   "metadata": {},
   "source": [
    "Before joining this layer to the roads, we must reproject it to match the CRS of the roads layer."
   ]
  },
  {
   "cell_type": "code",
   "execution_count": null,
   "metadata": {},
   "outputs": [],
   "source": [
    "districts_reprojected = districts_gdf.to_crs('EPSG:32643')"
   ]
  },
  {
   "cell_type": "markdown",
   "metadata": {},
   "source": [
    "A spatial join is performed using the `sjoin()` method. It takes 2 core arguments.\n",
    "\n",
    "- `op`: The spatial predicate to decdie which objects to join. Options are *intersects*, *within* and *contains*.\n",
    "- `how`: The type of join to perform. Options are *left*, *right* and *inner*.\n",
    "\n",
    "For our task, we can do a *left* join and add attributes of the district that *intersect* the road.\n"
   ]
  },
  {
   "cell_type": "code",
   "execution_count": null,
   "metadata": {},
   "outputs": [],
   "source": [
    "joined = gpd.sjoin(roads_reprojected, districts_reprojected, how='left', op='intersects')\n",
    "print(joined.head())"
   ]
  },
  {
   "cell_type": "markdown",
   "metadata": {},
   "source": [
    "## Group Statistics\n",
    "\n",
    "The resulting geodataframe now has the matching column from the intersecting district feature. We can now sum the length of the roads and group them by districts. This type of *Group Statistics* is performed using Panda's `group_by()` method."
   ]
  },
  {
   "cell_type": "code",
   "execution_count": null,
   "metadata": {},
   "outputs": [],
   "source": [
    "results = joined.groupby('DISTRICT')['length'].sum()/1000\n",
    "print(results)"
   ]
  },
  {
   "cell_type": "markdown",
   "metadata": {},
   "source": [
    "The result of the `group_by()` method is a Pandas *Series*. It can be saved to a CSV file using the `to_csv()` method."
   ]
  },
  {
   "cell_type": "code",
   "execution_count": null,
   "metadata": {},
   "outputs": [],
   "source": [
    "output_filename = 'national_highways_by_districts.csv'\n",
    "output_dir = 'output'\n",
    "output_path = os.path.join(output_dir, output_filename)\n",
    "results.to_csv(output_path)\n",
    "print('Successfully written output file at {}'.format(output_path))"
   ]
  },
  {
   "cell_type": "markdown",
   "metadata": {},
   "source": [
    "## Exercise\n",
    "\n",
    "Before writing the output to the file, round the distance numbers to a whole number."
   ]
  },
  {
   "cell_type": "markdown",
   "metadata": {},
   "source": [
    "----"
   ]
  }
 ],
 "metadata": {
  "kernelspec": {
   "display_name": "Python 3 (ipykernel)",
   "language": "python",
   "name": "python3"
  },
  "language_info": {
   "codemirror_mode": {
    "name": "ipython",
    "version": 3
   },
   "file_extension": ".py",
   "mimetype": "text/x-python",
   "name": "python",
   "nbconvert_exporter": "python",
   "pygments_lexer": "ipython3",
   "version": "3.8.13"
  }
 },
 "nbformat": 4,
 "nbformat_minor": 4
}
