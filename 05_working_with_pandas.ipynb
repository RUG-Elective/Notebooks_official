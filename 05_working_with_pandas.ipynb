{
 "cells": [
  {
   "cell_type": "markdown",
   "metadata": {},
   "source": [
    "# Working with Pandas\n",
    "\n",
    "![](images/python_foundation/pandas-logo.png)\n",
    "\n",
    "Pandas is a powerful library for working with data. Pandas provides fast and easy functions for reading data from files, and analyzing it.\n",
    "\n",
    "Pandas is based on another library called `numpy` - which is widely used in scientific computing. Pandas extends `numpy` and provides new data types such as **Index**, **Series** and **DataFrames**.\n",
    "\n",
    "Pandas implementation is very fast and efficient - so compared to other methods of data processing - using `pandas` results is simpler code and quick processing. We will now re-implement our code for reading a file and computing distance using Pandas."
   ]
  },
  {
   "cell_type": "markdown",
   "metadata": {},
   "source": [
    "By convention, `pandas` is commonly imported as `pd`"
   ]
  },
  {
   "cell_type": "code",
   "execution_count": 5,
   "metadata": {},
   "outputs": [],
   "source": [
    "import pandas as pd"
   ]
  },
  {
   "cell_type": "markdown",
   "metadata": {},
   "source": [
    "## Reading Files"
   ]
  },
  {
   "cell_type": "code",
   "execution_count": 6,
   "metadata": {},
   "outputs": [],
   "source": [
    "import os\n",
    "data_pkg_path = 'data'\n",
    "filename = 'worldcities.csv'\n",
    "path = os.path.join(data_pkg_path, filename)"
   ]
  },
  {
   "cell_type": "markdown",
   "metadata": {},
   "source": [
    "A **DataFrame** is the most used Pandas object. You can think of a DataFrame being equivalent to a Spreadsheet or an Attribute Table of a GIS layer. \n",
    "\n",
    "Pandas provide easy methods to directly read files into a DataFrame. You can use methods such as `read_csv()`, `read_excel()`, `read_hdf()` and so forth to read a variety of formats. Here we will read the `worldcitites.csv` file using `read_csv()` method."
   ]
  },
  {
   "cell_type": "code",
   "execution_count": 7,
   "metadata": {},
   "outputs": [],
   "source": [
    "df = pd.read_csv(r'C:\\Users\\Stathis\\3.PYTHON_ELECTIVE\\SPATIALTHOUGHTS\\courses-master\\Data\\python_foundation\\data\\worldcities.csv')"
   ]
  },
  {
   "cell_type": "markdown",
   "metadata": {},
   "source": [
    "Once the file is read and a DataFrame object is created, we can inspect it using the `head()` method. "
   ]
  },
  {
   "cell_type": "code",
   "execution_count": 8,
   "metadata": {},
   "outputs": [
    {
     "name": "stdout",
     "output_type": "stream",
     "text": [
      "          city   city_ascii      lat       lng        country iso2 iso3  \\\n",
      "0        Tokyo        Tokyo  35.6850  139.7514          Japan   JP  JPN   \n",
      "1     New York     New York  40.6943  -73.9249  United States   US  USA   \n",
      "2  Mexico City  Mexico City  19.4424  -99.1310         Mexico   MX  MEX   \n",
      "3       Mumbai       Mumbai  19.0170   72.8570          India   IN  IND   \n",
      "4    São Paulo    Sao Paulo -23.5587  -46.6250         Brazil   BR  BRA   \n",
      "\n",
      "         admin_name  capital  population          id  \n",
      "0             Tōkyō  primary  35676000.0  1392685764  \n",
      "1          New York      NaN  19354922.0  1840034016  \n",
      "2  Ciudad de México  primary  19028000.0  1484247881  \n",
      "3       Mahārāshtra    admin  18978000.0  1356226629  \n",
      "4         São Paulo    admin  18845000.0  1076532519  \n"
     ]
    }
   ],
   "source": [
    "print(df.head())"
   ]
  },
  {
   "cell_type": "markdown",
   "metadata": {},
   "source": [
    "There is also a `info()` method that shows basic information about the dataframe, such as number of rows/columns and data types of each column."
   ]
  },
  {
   "cell_type": "code",
   "execution_count": 9,
   "metadata": {},
   "outputs": [
    {
     "name": "stdout",
     "output_type": "stream",
     "text": [
      "<class 'pandas.core.frame.DataFrame'>\n",
      "RangeIndex: 15493 entries, 0 to 15492\n",
      "Data columns (total 11 columns):\n",
      " #   Column      Non-Null Count  Dtype  \n",
      "---  ------      --------------  -----  \n",
      " 0   city        15493 non-null  object \n",
      " 1   city_ascii  15493 non-null  object \n",
      " 2   lat         15493 non-null  float64\n",
      " 3   lng         15493 non-null  float64\n",
      " 4   country     15493 non-null  object \n",
      " 5   iso2        15462 non-null  object \n",
      " 6   iso3        15493 non-null  object \n",
      " 7   admin_name  15302 non-null  object \n",
      " 8   capital     5246 non-null   object \n",
      " 9   population  13808 non-null  float64\n",
      " 10  id          15493 non-null  int64  \n",
      "dtypes: float64(3), int64(1), object(7)\n",
      "memory usage: 1.3+ MB\n",
      "None\n"
     ]
    }
   ],
   "source": [
    "print(df.info())"
   ]
  },
  {
   "cell_type": "markdown",
   "metadata": {},
   "source": [
    "## Filtering Data\n",
    "\n",
    "Pandas have many ways of selecting and filtered data from a dataframe. We will now see how to use the [Boolean Filtering](https://pandas.pydata.org/pandas-docs/stable/user_guide/indexing.html#boolean-indexing) to filter the dataframe to rows that match a condition."
   ]
  },
  {
   "cell_type": "code",
   "execution_count": 10,
   "metadata": {},
   "outputs": [
    {
     "name": "stdout",
     "output_type": "stream",
     "text": [
      "           city city_ascii      lat      lng country iso2 iso3  \\\n",
      "3        Mumbai     Mumbai  19.0170  72.8570   India   IN  IND   \n",
      "5         Delhi      Delhi  28.6700  77.2300   India   IN  IND   \n",
      "7       Kolkata    Kolkata  22.4950  88.3247   India   IN  IND   \n",
      "34      Chennai    Chennai  13.0900  80.2800   India   IN  IND   \n",
      "36    Bengalūru  Bengaluru  12.9700  77.5600   India   IN  IND   \n",
      "...         ...        ...      ...      ...     ...  ...  ...   \n",
      "7305      Karūr      Karur  10.9504  78.0833   India   IN  IND   \n",
      "7441     Jorhāt     Jorhat  26.7500  94.2167   India   IN  IND   \n",
      "7583      Sopur      Sopur  34.3000  74.4667   India   IN  IND   \n",
      "7681     Tezpur     Tezpur  26.6338  92.8000   India   IN  IND   \n",
      "9384        Diu        Diu  20.7197  70.9904   India   IN  IND   \n",
      "\n",
      "             admin_name capital  population          id  \n",
      "3           Mahārāshtra   admin  18978000.0  1356226629  \n",
      "5                 Delhi   admin  15926000.0  1356872604  \n",
      "7           West Bengal   admin  14787000.0  1356060520  \n",
      "34          Tamil Nādu    admin   7163000.0  1356374944  \n",
      "36            Karnātaka   admin   6787000.0  1356410365  \n",
      "...                 ...     ...         ...         ...  \n",
      "7305        Tamil Nādu      NaN     76915.0  1356837900  \n",
      "7441              Assam     NaN     69033.0  1356638741  \n",
      "7583  Jammu and Kashmīr     NaN     63035.0  1356978065  \n",
      "7681              Assam     NaN     58851.0  1356299437  \n",
      "9384      Damān and Diu     NaN     23779.0  1356923516  \n",
      "\n",
      "[212 rows x 11 columns]\n"
     ]
    }
   ],
   "source": [
    "home_country = 'India'\n",
    "filtered = df[df['country'] == home_country]\n",
    "print(filtered)"
   ]
  },
  {
   "cell_type": "markdown",
   "metadata": {},
   "source": [
    "Filtered dataframe is a just view of the original data and we cannot make changes to it. We can save the filtered view to a new dataframe using the `copy()` method."
   ]
  },
  {
   "cell_type": "code",
   "execution_count": 12,
   "metadata": {},
   "outputs": [],
   "source": [
    "country_df = df[df['country'] == home_country].copy()"
   ]
  },
  {
   "cell_type": "markdown",
   "metadata": {},
   "source": [
    "To locate a particular row or column from a dataframe, Pandas providea `loc[]` and `iloc[]` methods - that allows you to *locate* particular slices of data. Learn about [different indexing methods](https://pandas.pydata.org/pandas-docs/stable/user_guide/indexing.html#different-choices-for-indexing) in Pandas. Here we can use `iloc[]` to find the row matching the `home_city` name. Since `iloc[]` uses index, the *0* here refers to the first row."
   ]
  },
  {
   "cell_type": "code",
   "execution_count": 13,
   "metadata": {},
   "outputs": [
    {
     "name": "stdout",
     "output_type": "stream",
     "text": [
      "city           Bengalūru\n",
      "city_ascii     Bengaluru\n",
      "lat                12.97\n",
      "lng                77.56\n",
      "country            India\n",
      "iso2                  IN\n",
      "iso3                 IND\n",
      "admin_name     Karnātaka\n",
      "capital            admin\n",
      "population     6787000.0\n",
      "id            1356410365\n",
      "Name: 36, dtype: object\n"
     ]
    }
   ],
   "source": [
    "home_city = 'Bengaluru'\n",
    "filtered = country_df[country_df['city_ascii'] == home_city]\n",
    "print(filtered.iloc[0])"
   ]
  },
  {
   "cell_type": "markdown",
   "metadata": {},
   "source": [
    "Now that we have filtered down the data to a single row, we can select individual column values using column names."
   ]
  },
  {
   "cell_type": "code",
   "execution_count": 15,
   "metadata": {},
   "outputs": [
    {
     "name": "stdout",
     "output_type": "stream",
     "text": [
      "(12.97, 77.56)\n"
     ]
    }
   ],
   "source": [
    "home_city_coordinates = (filtered.iloc[0]['lat'], filtered.iloc[0]['lng'])\n",
    "print(home_city_coordinates)"
   ]
  },
  {
   "cell_type": "markdown",
   "metadata": {},
   "source": [
    "## Performing calculations\n",
    "\n",
    "Let's learn how to do calculations on a dataframe. We can iterate over each row and perform some calculations. But pandas provide a much more efficient way. You can use the `apply()` method to run a function on each row. This is fast and makes it easy to complex computations on large datasets.\n",
    "\n",
    "The `apply()` function takes 2 arguments. A function to apply, and the axis along which to apply it. `axis=0` means it will be applied to columns and `axis=1` means it will apply to rows.\n",
    "\n",
    "![](images/python_foundation/pandas_axis.png)"
   ]
  },
  {
   "cell_type": "code",
   "execution_count": 16,
   "metadata": {},
   "outputs": [
    {
     "name": "stdout",
     "output_type": "stream",
     "text": [
      "3        837.185709\n",
      "5       1738.638856\n",
      "7       1552.637823\n",
      "34       295.340107\n",
      "36         0.000000\n",
      "           ...     \n",
      "7305     230.567496\n",
      "7441    2312.574457\n",
      "7583    2383.154991\n",
      "7681    2195.314732\n",
      "9384    1106.693243\n",
      "Length: 212, dtype: float64\n"
     ]
    }
   ],
   "source": [
    "from geopy import distance\n",
    "\n",
    "def calculate_distance(row):\n",
    "    city_coordinates = (row['lat'], row['lng'])\n",
    "    return distance.geodesic(city_coordinates, home_city_coordinates).km\n",
    "\n",
    "result = country_df.apply(calculate_distance, axis=1)\n",
    "print(result)"
   ]
  },
  {
   "cell_type": "markdown",
   "metadata": {},
   "source": [
    "We can add these results to the dataframe by simply assigning the result to a new column."
   ]
  },
  {
   "cell_type": "code",
   "execution_count": 17,
   "metadata": {},
   "outputs": [
    {
     "name": "stdout",
     "output_type": "stream",
     "text": [
      "           city city_ascii      lat      lng country iso2 iso3  \\\n",
      "3        Mumbai     Mumbai  19.0170  72.8570   India   IN  IND   \n",
      "5         Delhi      Delhi  28.6700  77.2300   India   IN  IND   \n",
      "7       Kolkata    Kolkata  22.4950  88.3247   India   IN  IND   \n",
      "34      Chennai    Chennai  13.0900  80.2800   India   IN  IND   \n",
      "36    Bengalūru  Bengaluru  12.9700  77.5600   India   IN  IND   \n",
      "...         ...        ...      ...      ...     ...  ...  ...   \n",
      "7305      Karūr      Karur  10.9504  78.0833   India   IN  IND   \n",
      "7441     Jorhāt     Jorhat  26.7500  94.2167   India   IN  IND   \n",
      "7583      Sopur      Sopur  34.3000  74.4667   India   IN  IND   \n",
      "7681     Tezpur     Tezpur  26.6338  92.8000   India   IN  IND   \n",
      "9384        Diu        Diu  20.7197  70.9904   India   IN  IND   \n",
      "\n",
      "             admin_name capital  population          id     distance  \n",
      "3           Mahārāshtra   admin  18978000.0  1356226629   837.185709  \n",
      "5                 Delhi   admin  15926000.0  1356872604  1738.638856  \n",
      "7           West Bengal   admin  14787000.0  1356060520  1552.637823  \n",
      "34          Tamil Nādu    admin   7163000.0  1356374944   295.340107  \n",
      "36            Karnātaka   admin   6787000.0  1356410365     0.000000  \n",
      "...                 ...     ...         ...         ...          ...  \n",
      "7305        Tamil Nādu      NaN     76915.0  1356837900   230.567496  \n",
      "7441              Assam     NaN     69033.0  1356638741  2312.574457  \n",
      "7583  Jammu and Kashmīr     NaN     63035.0  1356978065  2383.154991  \n",
      "7681              Assam     NaN     58851.0  1356299437  2195.314732  \n",
      "9384      Damān and Diu     NaN     23779.0  1356923516  1106.693243  \n",
      "\n",
      "[212 rows x 12 columns]\n"
     ]
    }
   ],
   "source": [
    "country_df['distance'] = result\n",
    "print(country_df)"
   ]
  },
  {
   "cell_type": "markdown",
   "metadata": {},
   "source": [
    "We are done with our analysis and ready to save the results. We can further filter the results to only certain columns."
   ]
  },
  {
   "cell_type": "code",
   "execution_count": 18,
   "metadata": {},
   "outputs": [
    {
     "name": "stdout",
     "output_type": "stream",
     "text": [
      "     city_ascii     distance\n",
      "3        Mumbai   837.185709\n",
      "5         Delhi  1738.638856\n",
      "7       Kolkata  1552.637823\n",
      "34      Chennai   295.340107\n",
      "36    Bengaluru     0.000000\n",
      "...         ...          ...\n",
      "7305      Karur   230.567496\n",
      "7441     Jorhat  2312.574457\n",
      "7583      Sopur  2383.154991\n",
      "7681     Tezpur  2195.314732\n",
      "9384        Diu  1106.693243\n",
      "\n",
      "[212 rows x 2 columns]\n"
     ]
    }
   ],
   "source": [
    "filtered = country_df[['city_ascii','distance']]\n",
    "print(filtered)"
   ]
  },
  {
   "cell_type": "markdown",
   "metadata": {},
   "source": [
    "Let's rename the `city_ascii` column to give it a more readable name."
   ]
  },
  {
   "cell_type": "code",
   "execution_count": null,
   "metadata": {},
   "outputs": [],
   "source": [
    "filtered = filtered.rename(columns = {'city_ascii': 'city'})\n",
    "print(filtered)"
   ]
  },
  {
   "cell_type": "markdown",
   "metadata": {},
   "source": [
    "Now that we have added filtered the original data and computed the distance for all cities, we can save the resulting dataframe to a file. Similar to read methods, Pandas have several write methods, such as `to_csv()`, `to_excel()` etc.\n",
    "\n",
    "Here we will use the `to_csv()` method to write a CSV file. Pandas assigns an index column (unique integer values) to a dataframe by default. We specify `index=False` so that this index is not added to our output."
   ]
  },
  {
   "cell_type": "code",
   "execution_count": 21,
   "metadata": {},
   "outputs": [
    {
     "name": "stdout",
     "output_type": "stream",
     "text": [
      "Successfully written output file at C:\\Users\\Stathis\\3.PYTHON_ELECTIVE\\COURSE_MATERIAL_2022\\Week_3_4\\cities_distance_pandas.csv\n"
     ]
    }
   ],
   "source": [
    "output_filename = 'cities_distance_pandas.csv'\n",
    "output_dir = 'output'\n",
    "#output_path = os.path.join(output_dir, output_filename)\n",
    "output_path = os.path.join(r'C:\\Users\\Stathis\\3.PYTHON_ELECTIVE\\COURSE_MATERIAL_2022\\Week_3_4', output_filename)\n",
    "filtered.to_csv(output_path, index=False)\n",
    "print('Successfully written output file at {}'.format(output_path))"
   ]
  },
  {
   "cell_type": "markdown",
   "metadata": {},
   "source": [
    "## Exercise\n",
    "\n",
    "You will notice that the output file contains a row with the `home_city` as well. Modify the `filtered` dataframe to remove this row and write it to a file.\n",
    "\n",
    "Hint: Use the Boolean filtering method we learnt earlier to select rows that do not match the `home_city`."
   ]
  },
  {
   "cell_type": "markdown",
   "metadata": {},
   "source": [
    "----"
   ]
  }
 ],
 "metadata": {
  "kernelspec": {
   "display_name": "Python 3 (ipykernel)",
   "language": "python",
   "name": "python3"
  },
  "language_info": {
   "codemirror_mode": {
    "name": "ipython",
    "version": 3
   },
   "file_extension": ".py",
   "mimetype": "text/x-python",
   "name": "python",
   "nbconvert_exporter": "python",
   "pygments_lexer": "ipython3",
   "version": "3.8.13"
  }
 },
 "nbformat": 4,
 "nbformat_minor": 4
}
