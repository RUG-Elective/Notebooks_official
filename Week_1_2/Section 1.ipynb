Follow in Binder: [![Binder](https://mybinder.org/badge_logo.svg)](https://mybinder.org/v2/gh/RUG-Elective/Notebooks_official/main?labpath=Section%201.ipynb)
{
 "cells": [
  {
   "cell_type": "markdown",
   "metadata": {},
   "source": [
    "# 0.Hello World\n",
    "\n",
    "When learning a new programming language, it is customary to first learn how to print 'Hello World!'. While a bit quirky, it is a useful first step to know how to send input to the program and where to see the output. In Python, you can use the built-in ``print()`` function to print the greeting ``\"Hello World!\"``"
   ]
  },
  {
   "cell_type": "code",
   "execution_count": null,
   "metadata": {},
   "outputs": [],
   "source": [
    "print('Hello World!')"
   ]
  },
  {
   "cell_type": "markdown",
   "metadata": {},
   "source": [
    "# 1.Variables"
   ]
  },
  {
   "cell_type": "markdown",
   "metadata": {},
   "source": [
    "## Strings"
   ]
  },
  {
   "cell_type": "markdown",
   "metadata": {},
   "source": [
    "##### A string is a sequence of letters, numbers, and punctuation marks - or commonly known as text\n",
    "##### In Python you can create a string by typing letters between single or double quotation marks."
   ]
  },
  {
   "cell_type": "code",
   "execution_count": null,
   "metadata": {},
   "outputs": [],
   "source": [
    "city = 'Groningen'\n",
    "state = 'California'\n",
    "print(city, state)"
   ]
  },
  {
   "cell_type": "code",
   "execution_count": null,
   "metadata": {},
   "outputs": [],
   "source": [
    "print(city + state)"
   ]
  },
  {
   "cell_type": "code",
   "execution_count": null,
   "metadata": {},
   "outputs": [],
   "source": [
    "print(city + ',' + state)"
   ]
  },
  {
   "cell_type": "markdown",
   "metadata": {},
   "source": [
    "## Numbers\n",
    "\n",
    "Python can handle several types of numbers, but the two most common are:\n",
    "\n",
    "- **int**, which represents integer values like 100, and\n",
    "- **float**, which represents numbers that have a fraction part, like 0.5"
   ]
  },
  {
   "cell_type": "code",
   "execution_count": null,
   "metadata": {},
   "outputs": [],
   "source": [
    "population = 881549\n",
    "latitude = 37.7739\n",
    "longitude = -121.5687"
   ]
  },
  {
   "cell_type": "code",
   "execution_count": null,
   "metadata": {},
   "outputs": [],
   "source": [
    "print(type(population))"
   ]
  },
  {
   "cell_type": "code",
   "execution_count": 1,
   "metadata": {},
   "outputs": [
    {
     "ename": "NameError",
     "evalue": "name 'latitude' is not defined",
     "output_type": "error",
     "traceback": [
      "\u001b[1;31m---------------------------------------------------------------------------\u001b[0m",
      "\u001b[1;31mNameError\u001b[0m                                 Traceback (most recent call last)",
      "Input \u001b[1;32mIn [1]\u001b[0m, in \u001b[0;36m<cell line: 1>\u001b[1;34m()\u001b[0m\n\u001b[1;32m----> 1\u001b[0m \u001b[38;5;28mprint\u001b[39m(\u001b[38;5;28mtype\u001b[39m(\u001b[43mlatitude\u001b[49m))\n",
      "\u001b[1;31mNameError\u001b[0m: name 'latitude' is not defined"
     ]
    }
   ],
   "source": [
    "print(type(latitude))"
   ]
  },
  {
   "cell_type": "code",
   "execution_count": null,
   "metadata": {},
   "outputs": [],
   "source": [
    "elevation_feet = 934\n",
    "elevation_meters = elevation_feet * 0.3048\n",
    "print(elevation_meters)"
   ]
  },
  {
   "cell_type": "code",
   "execution_count": null,
   "metadata": {},
   "outputs": [],
   "source": [
    "area_sqmi = 46.89\n",
    "density = population / area_sqmi\n",
    "print(density)"
   ]
  },
  {
   "cell_type": "markdown",
   "metadata": {},
   "source": [
    "## Exercise\n",
    "We have a variable named `distance_km` below with the value `4135` - indicating the straight-line distance between San Francisco and New York in Kilometers. Create another variable called `distance_mi` and store the distance value in miles.\n",
    "\n",
    "- Hint1: 1 mile = 1.60934 kilometers\n",
    "\n",
    "Add the code in the cell below and run it. The output should be 2569.37"
   ]
  },
  {
   "cell_type": "code",
   "execution_count": 2,
   "metadata": {},
   "outputs": [],
   "source": [
    "distance_km = 4135\n",
    "# Remove this line and add code here"
   ]
  },
  {
   "cell_type": "markdown",
   "metadata": {},
   "source": [
    "## 2.Data Structures"
   ]
  },
  {
   "cell_type": "markdown",
   "metadata": {},
   "source": [
    "## Tuples\n",
    "\n",
    "A *tuple* is a sequence of objects. It can have any number of objects inside. In Python tuples are written with round brackets **()**. "
   ]
  },
  {
   "cell_type": "code",
   "execution_count": null,
   "metadata": {},
   "outputs": [],
   "source": [
    "latitude = 37.7739\n",
    "longitude = -121.5687\n",
    "coordinates = (latitude, longitude)\n",
    "print(coordinates)"
   ]
  },
  {
   "cell_type": "markdown",
   "metadata": {},
   "source": [
    "You can access each item by its position, i.e. *index*. In programming, the counting starts from 0. So the first item has an index of 0, the second item an index of 1 and so now. The index has to be put inside square brackets **[]**."
   ]
  },
  {
   "cell_type": "code",
   "execution_count": null,
   "metadata": {},
   "outputs": [],
   "source": [
    "y = coordinates[0]\n",
    "x = coordinates[1]\n",
    "print(x, y)"
   ]
  },
  {
   "cell_type": "markdown",
   "metadata": {},
   "source": [
    "## Lists\n",
    "\n",
    "A **list** is similar to a tuple - but with a key difference. With tuples, once created, they cannot be changed, i.e. they are immutable. But lists are mutable. You can add, delete or change elements within a list.  In Python, lists are written with square brackets **[]**"
   ]
  },
  {
   "cell_type": "code",
   "execution_count": null,
   "metadata": {},
   "outputs": [],
   "source": [
    "cities = ['San Francisco', 'Los Angeles', 'New York', 'Atlanta']\n",
    "print(cities)"
   ]
  },
  {
   "cell_type": "markdown",
   "metadata": {},
   "source": [
    "You can access the elements from a list using index the same way as tuples."
   ]
  },
  {
   "cell_type": "code",
   "execution_count": null,
   "metadata": {},
   "outputs": [],
   "source": [
    "print(cities[0])"
   ]
  },
  {
   "cell_type": "markdown",
   "metadata": {},
   "source": [
    "You can call len() function with any Python object and it will calculates the size of the object."
   ]
  },
  {
   "cell_type": "code",
   "execution_count": null,
   "metadata": {},
   "outputs": [],
   "source": [
    "print(len(cities))"
   ]
  },
  {
   "cell_type": "markdown",
   "metadata": {},
   "source": [
    "We can add items to the list using the append() method"
   ]
  },
  {
   "cell_type": "code",
   "execution_count": null,
   "metadata": {},
   "outputs": [],
   "source": [
    "cities.append('Boston')\n",
    "print(cities)"
   ]
  },
  {
   "cell_type": "code",
   "execution_count": null,
   "metadata": {},
   "outputs": [],
   "source": [
    "print(len(cities))"
   ]
  },
  {
   "cell_type": "markdown",
   "metadata": {},
   "source": [
    "Another useful method for lists is sort() - which can sort the elements in a list."
   ]
  },
  {
   "cell_type": "code",
   "execution_count": null,
   "metadata": {},
   "outputs": [],
   "source": [
    "cities.sort()\n",
    "print(cities)"
   ]
  },
  {
   "cell_type": "markdown",
   "metadata": {},
   "source": [
    "The default sorting is in ascending order. \n",
    "If we wanted to sort the list in a decending order, we can call the function with reverse=True"
   ]
  },
  {
   "cell_type": "code",
   "execution_count": null,
   "metadata": {},
   "outputs": [],
   "source": [
    "cities.sort(reverse=True)\n",
    "print(cities)"
   ]
  },
  {
   "cell_type": "markdown",
   "metadata": {},
   "source": [
    "## Sets\n",
    "\n",
    "Sets are like lists, but with some interesting properties. Mainly that they contain only unique values. It also allows for *set operations* - such as *intersection*, *union* and *difference*. In practice, the sets are typically created from lists."
   ]
  },
  {
   "cell_type": "code",
   "execution_count": null,
   "metadata": {},
   "outputs": [],
   "source": [
    "capitals = ['Sacramento', 'Boston', 'Austin', 'Atlanta']\n",
    "capitals_set = set(capitals)\n",
    "cities_set = set(cities)\n",
    "\n",
    "capital_cities = capitals_set.intersection(cities_set)\n",
    "print(capital_cities)"
   ]
  },
  {
   "cell_type": "markdown",
   "metadata": {},
   "source": [
    "Sets are also useful in finding unique elements in a list. Let's merge the two lists using the extend() method. The resulting list will have duplicate elements. Creating a set from the list removes the duplicate elements."
   ]
  },
  {
   "cell_type": "code",
   "execution_count": null,
   "metadata": {},
   "outputs": [],
   "source": [
    "cities.extend(capitals)\n",
    "print(cities)\n",
    "print(set(cities))"
   ]
  },
  {
   "cell_type": "markdown",
   "metadata": {},
   "source": [
    "## Dictionaries\n",
    "\n",
    "In Python dictionaries are written with curly brackets **{}**. Dictionaries have *keys* and *values*. With lists, we can access each element by its index. But a dictionary makes it easy to access the element by name. Keys and values are separated by a colon **:**. "
   ]
  },
  {
   "cell_type": "code",
   "execution_count": null,
   "metadata": {},
   "outputs": [],
   "source": [
    "data = {'city': 'San Francisco', 'population': 881549, 'coordinates': (-122.4194, 37.7749) }\n",
    "print(data)"
   ]
  },
  {
   "cell_type": "markdown",
   "metadata": {},
   "source": [
    "You can access an item of a dictionary by referring to its key name, inside square brackets."
   ]
  },
  {
   "cell_type": "code",
   "execution_count": null,
   "metadata": {},
   "outputs": [],
   "source": [
    "print(data['city'])"
   ]
  },
  {
   "cell_type": "markdown",
   "metadata": {},
   "source": [
    "## Exercise\n",
    "\n",
    "From the dictionary below, how do you access the latitude and longitude values? print the latitude and longitude of new york city by extracting it from the dictionary below.\n",
    "\n",
    "The expected output should look like below.\n",
    "\n",
    "```\n",
    "40.661\n",
    "-73.944\n",
    "```"
   ]
  },
  {
   "cell_type": "code",
   "execution_count": null,
   "metadata": {},
   "outputs": [],
   "source": [
    "nyc_data = {'city': 'New York', 'population': 8175133, 'coordinates': (40.661, -73.944) }"
   ]
  },
  {
   "cell_type": "markdown",
   "metadata": {},
   "source": [
    "More examples here: https://medium.com/@arun.verma8007/python-data-structures-56d4211ca5a7"
   ]
  },
  {
   "cell_type": "markdown",
   "metadata": {},
   "source": [
    "# 3.String Operations"
   ]
  },
  {
   "cell_type": "code",
   "execution_count": null,
   "metadata": {},
   "outputs": [],
   "source": [
    "city = 'San Francisco'\n",
    "print(len(city))"
   ]
  },
  {
   "cell_type": "code",
   "execution_count": null,
   "metadata": {},
   "outputs": [],
   "source": [
    "print(city.split())"
   ]
  },
  {
   "cell_type": "code",
   "execution_count": null,
   "metadata": {},
   "outputs": [],
   "source": [
    "print(city.upper())"
   ]
  },
  {
   "cell_type": "code",
   "execution_count": null,
   "metadata": {},
   "outputs": [],
   "source": [
    "city[0]"
   ]
  },
  {
   "cell_type": "code",
   "execution_count": null,
   "metadata": {},
   "outputs": [],
   "source": [
    "city[-1]"
   ]
  },
  {
   "cell_type": "code",
   "execution_count": null,
   "metadata": {},
   "outputs": [],
   "source": [
    "city[0:3]"
   ]
  },
  {
   "cell_type": "code",
   "execution_count": null,
   "metadata": {},
   "outputs": [],
   "source": [
    "city[4:]"
   ]
  },
  {
   "cell_type": "markdown",
   "metadata": {},
   "source": [
    "## Escaping characters\n",
    "\n",
    "Certain characters are special since they are by Python language itself. For example, the quote character **'** is used to define a string. What do you do if your string contains a quote character?\n",
    "\n",
    "In Python strings, the backslash **\\\\** is a special character, also called the **escape** character. Prefixing any character with a backslash makes it an ordinary character. (Hint: Prefixing a backslash with a backshalsh makes it ordinary too!)\n",
    "\n",
    "It is also used for representing certain whitespace characters, \\\\n is a newline, \\\\t is a tab etc.\n",
    "\n",
    "Remove the # from the cell below and run it."
   ]
  },
  {
   "cell_type": "code",
   "execution_count": null,
   "metadata": {},
   "outputs": [],
   "source": [
    "# my_string = 'It's a beautiful day!'"
   ]
  },
  {
   "cell_type": "markdown",
   "metadata": {},
   "source": [
    "We can fix the error by espacing the single quote within the string."
   ]
  },
  {
   "cell_type": "code",
   "execution_count": null,
   "metadata": {},
   "outputs": [],
   "source": [
    "my_string = 'It\\'s a beautiful day!'\n",
    "print(my_string)"
   ]
  },
  {
   "cell_type": "code",
   "execution_count": null,
   "metadata": {},
   "outputs": [],
   "source": [
    "Alternatively, you can also use double-quotes if your string contains a single-quote."
   ]
  },
  {
   "cell_type": "code",
   "execution_count": null,
   "metadata": {},
   "outputs": [],
   "source": [
    "my_string = \"It's a beautiful day!\""
   ]
  },
  {
   "cell_type": "markdown",
   "metadata": {},
   "source": [
    "What if our string contains both single and double quotes?\n",
    "\n",
    "We can use triple-quotes! Enclosing the string in triple quotes ensures both single and double quotes are treated correctly."
   ]
  },
  {
   "cell_type": "code",
   "execution_count": null,
   "metadata": {},
   "outputs": [],
   "source": [
    "latitude = '''37° 46' 26.2992\" N'''\n",
    "longitude = '''122° 25' 52.6692\" W'''\n",
    "print(latitude, longitude)"
   ]
  },
  {
   "cell_type": "code",
   "execution_count": null,
   "metadata": {},
   "outputs": [],
   "source": [
    "Backslashes pose another problem when dealing with Windows paths"
   ]
  },
  {
   "cell_type": "code",
   "execution_count": null,
   "metadata": {},
   "outputs": [],
   "source": [
    "#path = 'C:\\Users\\ujaval'\n",
    "#print(path)"
   ]
  },
  {
   "cell_type": "markdown",
   "metadata": {},
   "source": [
    "Prefixing a string with r makes is a Raw string. Which doesn't interpret backslash as a special character"
   ]
  },
  {
   "cell_type": "code",
   "execution_count": null,
   "metadata": {},
   "outputs": [],
   "source": [
    "path = r'C:\\Users\\ujaval'\n",
    "print(path)"
   ]
  },
  {
   "cell_type": "markdown",
   "metadata": {},
   "source": [
    "## Printing Strings\n",
    "\n",
    "Modern way of creating strings from variables is using the `format()` method"
   ]
  },
  {
   "cell_type": "code",
   "execution_count": null,
   "metadata": {},
   "outputs": [],
   "source": [
    "city = 'San Fransico'\n",
    "population = 881549\n",
    "output = 'Population of {} is {}.'.format(city, population)\n",
    "print(output)"
   ]
  },
  {
   "cell_type": "code",
   "execution_count": null,
   "metadata": {},
   "outputs": [],
   "source": [
    "You can also use the format method to control the precision of the numbers"
   ]
  },
  {
   "cell_type": "code",
   "execution_count": null,
   "metadata": {},
   "outputs": [],
   "source": [
    "latitude = 37.7749\n",
    "longitude = -122.4194\n",
    "\n",
    "coordinates = '{:.2f},{:.2f}'.format(latitude, longitude)\n",
    "print(coordinates)"
   ]
  },
  {
   "cell_type": "markdown",
   "metadata": {},
   "source": [
    "## Exercise\n",
    "\n",
    "Use the string slicing to extract and print the degrees, minutes and second parts of the string below. The output should be as follows\n",
    "\n",
    "```\n",
    "37\n",
    "46\n",
    "26.2992\n",
    "```"
   ]
  },
  {
   "cell_type": "code",
   "execution_count": null,
   "metadata": {},
   "outputs": [],
   "source": [
    "latitude = '''37° 46' 26.2992\"'''"
   ]
  },
  {
   "cell_type": "markdown",
   "metadata": {},
   "source": [
    "# 4.Loops and Conditionals"
   ]
  },
  {
   "cell_type": "markdown",
   "metadata": {},
   "source": [
    "## For Loops\n",
    "\n",
    "A for loop is used for iterating over a sequence. The sequence can be a list, a tuple, a dictionary, a set, or a string.\n"
   ]
  },
  {
   "cell_type": "code",
   "execution_count": null,
   "metadata": {},
   "outputs": [],
   "source": [
    "cities = ['San Francisco', 'Los Angeles', 'New York', 'Atlanta']\n",
    "\n",
    "for city in cities:\n",
    "    print(city)"
   ]
  },
  {
   "cell_type": "markdown",
   "metadata": {},
   "source": [
    "To iterate over a dictionary, you can call the `items()` method on it which returns a tuple of key and value for each item."
   ]
  },
  {
   "cell_type": "code",
   "execution_count": null,
   "metadata": {},
   "outputs": [],
   "source": [
    "data = {'city': 'San Francisco', 'population': 881549, 'coordinates': (-122.4194, 37.7749) }\n",
    "\n",
    "for x, y in data.items():\n",
    "    print(x, y)"
   ]
  },
  {
   "cell_type": "code",
   "execution_count": null,
   "metadata": {},
   "outputs": [],
   "source": [
    "The built-in `range()` function allows you to create sequence of numbers that you can iterate over"
   ]
  },
  {
   "cell_type": "code",
   "execution_count": null,
   "metadata": {},
   "outputs": [],
   "source": [
    "for x in range(5):\n",
    "    print(x)"
   ]
  },
  {
   "cell_type": "code",
   "execution_count": null,
   "metadata": {},
   "outputs": [],
   "source": [
    "for x in range(1, 10, 2):\n",
    "    print(x)"
   ]
  },
  {
   "cell_type": "markdown",
   "metadata": {},
   "source": [
    "# Conditionals\n",
    "\n",
    "Python supports logical conditions such as equals, not equals, greater than etc. These conditions can be used in several ways, most commonly in *if statements* and loops.\n",
    "\n",
    "An *if statement* is written by using the `if` keyword.\n",
    "\n",
    "Note: A very common error that programmers make is to use *=* to evaluate a *equals to* condition. The *=* in Python means assignment, not equals to. Always ensure that you use the *==* for an equals to condition."
   ]
  },
  {
   "cell_type": "code",
   "execution_count": null,
   "metadata": {},
   "outputs": [],
   "source": [
    "for city in cities:\n",
    "    if city == 'Atlanta':\n",
    "        print(city)"
   ]
  },
  {
   "cell_type": "markdown",
   "metadata": {},
   "source": [
    "You can use `else` keywords along with `if` to match elements that do not meet the condition"
   ]
  },
  {
   "cell_type": "code",
   "execution_count": null,
   "metadata": {},
   "outputs": [],
   "source": [
    "for city in cities:\n",
    "    if city == 'Atlanta':\n",
    "        print(city)\n",
    "    else:\n",
    "        print('This is not Atlanta')"
   ]
  },
  {
   "cell_type": "markdown",
   "metadata": {},
   "source": [
    "Python relies on indentation (whitespace at the beginning of a line) to define scope in the for loop and if statements. So make sure your code is properly indented."
   ]
  },
  {
   "cell_type": "markdown",
   "metadata": {},
   "source": [
    "You can evaluate a series of conditions using the `elif` keyword.\n",
    "\n",
    "Multiple criteria can be combined using the `and` and `or` keywords."
   ]
  },
  {
   "cell_type": "code",
   "execution_count": null,
   "metadata": {},
   "outputs": [],
   "source": [
    "cities_population = {\n",
    "    'San Francisco': 881549,\n",
    "    'Los Angeles': 3792621,\n",
    "    'New York': 8175133,\n",
    "    'Atlanta':498044\n",
    "}\n",
    "\n",
    "for city, population in cities_population.items():\n",
    "    if population < 1000000:\n",
    "        print('{} is a small city'.format(city))\n",
    "    elif population > 1000000 and population < 5000000:\n",
    "        print('{} is a big city'.format(city))\n",
    "    else:\n",
    "        print('{} is a mega city'.format(city))"
   ]
  },
  {
   "cell_type": "markdown",
   "metadata": {},
   "source": [
    "## Control Statements\n",
    "\n",
    "A for-loop iterates over each item in the sequence. Sometimes is desirable to stop the execution, or skip certain parts of the for-loops. Python has special statements, `break`, `continue` and `pass`. "
   ]
  },
  {
   "cell_type": "markdown",
   "metadata": {},
   "source": [
    "A `break` statement will stop the loop and exit out of it"
   ]
  },
  {
   "cell_type": "code",
   "execution_count": null,
   "metadata": {},
   "outputs": [],
   "source": [
    "for city in cities:\n",
    "    print(city)\n",
    "    if city == 'Los Angeles':\n",
    "        print('I found Los Angeles')\n",
    "        break"
   ]
  },
  {
   "cell_type": "markdown",
   "metadata": {},
   "source": [
    "A `continue` statement will skip the remaining part of the loop and go to the next iteration"
   ]
  },
  {
   "cell_type": "code",
   "execution_count": null,
   "metadata": {},
   "outputs": [],
   "source": [
    "for city in cities:\n",
    "    if city == 'Los Angeles':\n",
    "        continue\n",
    "    print(city)"
   ]
  },
  {
   "cell_type": "markdown",
   "metadata": {},
   "source": [
    "## Exercise\n",
    "\n",
    "The Fizz Buzz challenge.\n",
    "\n",
    "Write a program that prints the numbers from 1 to 100 and for multiples of 3 print **Fizz** instead of the number and for the multiples of 5 print **Buzz**. If it is divisible by both, print **FizzBuzz**.\n",
    "\n",
    "So the output should be something like below\n",
    "\n",
    "`1, 2, Fizz, 4, Buzz, Fizz, 7, 8, Fizz, Buzz, 11, Fizz, 13, 14, FizzBuzz, ...`\n",
    "\n",
    "Breaking down the problem further, we need to create for-loop with following conditions\n",
    "\n",
    "- If the number is a multiple of both 3 and 5 (i.e. 15), print FizzBuzz\n",
    "- If the number is multiple of 3, print Fizz\n",
    "- If the number is multiple of 5, print Buzz\n",
    "- Otherwise print the number\n",
    "\n",
    "Hint: See the code cell below. Use the modulus operator **%** to check if a number is divisible by another. `10 % 5` equals 0, meaning it is divisible by 5.\n"
   ]
  },
  {
   "cell_type": "code",
   "execution_count": null,
   "metadata": {},
   "outputs": [],
   "source": [
    "for x in range(1, 10):\n",
    "    if x%2 == 0:\n",
    "        print('{} is divisible by 2'.format(x))\n",
    "    else:\n",
    "        print('{} is not divisible by 2'.format(x))"
   ]
  },
  {
   "cell_type": "markdown",
   "metadata": {},
   "source": [
    "# 5.Functions\n",
    "\n",
    "A function is a block of code that takes one or more *inputs*, does some processing on them and returns one or more *outputs*. The code within the function runs only when it is called.\n",
    "\n",
    "A funtion is defined using the `def` keyword\n",
    "\n",
    "```\n",
    "def my_function():\n",
    "    ....\n",
    "    ....\n",
    "    return something\n",
    "```\n",
    "\n",
    "Functions are useful because they allow us to capture the logic of our code and we can run it with differnt inputs without having to write the same code again and again."
   ]
  },
  {
   "cell_type": "code",
   "execution_count": null,
   "metadata": {},
   "outputs": [],
   "source": [
    "def greet(name):\n",
    "    return 'Hello ' + name\n",
    "\n",
    "print(greet('World'))"
   ]
  },
  {
   "cell_type": "markdown",
   "metadata": {},
   "source": [
    "Functions can take multiple arguments. Let's write a function to convert coordinates from degrees, minutes, seconds to decimal degrees. This conversion is needed quite often when working with data collected from GPS devices.\n",
    "\n",
    "- 1 degree is equal to 60 minutes\n",
    "- 1 minute is equal to 60 seconds (3600 seconds)\n",
    "\n",
    "To calculate decimal degrees, we can use the formula below:\n",
    "\n",
    "If degrees are positive:\n",
    "\n",
    "`Decimal Degrees = degrees + (minutes/60) + (seconds/3600)`\n",
    "\n",
    "If degrees are negative\n",
    "\n",
    "`Decimal Degrees = degrees - (minutes/60) - (seconds/3600)`"
   ]
  },
  {
   "cell_type": "code",
   "execution_count": null,
   "metadata": {},
   "outputs": [],
   "source": [
    "def dms_to_decimal(degrees, minutes, seconds):\n",
    "    if degrees < 0:\n",
    "        result = degrees - minutes/60 - seconds/3600\n",
    "    else:\n",
    "        result = degrees + minutes/60 + seconds/3600\n",
    "    return result"
   ]
  },
  {
   "cell_type": "code",
   "execution_count": null,
   "metadata": {},
   "outputs": [],
   "source": [
    "output = dms_to_decimal(10, 10, 10)\n",
    "print(output)"
   ]
  },
  {
   "cell_type": "markdown",
   "metadata": {},
   "source": [
    "## Exercise\n",
    "\n",
    "Given a coordinate string with value in degree, minutes and seconds, convert it to decimal degrees by calling the `dms_to_decimal` function."
   ]
  },
  {
   "cell_type": "code",
   "execution_count": null,
   "metadata": {},
   "outputs": [],
   "source": [
    "def dms_to_decimal(degrees, minutes, seconds):\n",
    "    if degrees < 0:\n",
    "        result = degrees - minutes/60 - seconds/3600\n",
    "    else:\n",
    "        result = degrees + minutes/60 + seconds/3600\n",
    "    return result\n",
    "\n",
    "coordinate = '''37° 46' 26.2992\"'''\n",
    "\n",
    "# Add the code below to extract the parts from the coordinate string,\n",
    "# call the function to convert to decimal degrees and print the result\n",
    "# The expected answer is 37.773972"
   ]
  },
  {
   "cell_type": "code",
   "execution_count": null,
   "metadata": {},
   "outputs": [],
   "source": [
    "# Hint: Converting strings to numbers\n",
    "# When you extract the parts from the coordinate string, they are strings\n",
    "# You will need to use the built-in int() / float() functions to\n",
    "# convert them to numbers\n",
    "x = '25'\n",
    "print(x, type(x))\n",
    "y = int(x)\n",
    "print(y, type(y))"
   ]
  },
  {
   "cell_type": "markdown",
   "metadata": {},
   "source": [
    "# 6.The Python Standard Library\n",
    "\n",
    "Python comes with many built-in modules that offer ready-to-use solutions to common programming problems. To use these modules, you must use the `import` keyword. Once imported in your Python script, you can use the functions provided by the module in your script."
   ]
  },
  {
   "cell_type": "markdown",
   "metadata": {},
   "source": [
    "We will use the built-in `math` module that allows us to use advanced mathematical functions."
   ]
  },
  {
   "cell_type": "code",
   "execution_count": 6,
   "metadata": {},
   "outputs": [],
   "source": [
    "import math"
   ]
  },
  {
   "cell_type": "code",
   "execution_count": 2,
   "metadata": {},
   "outputs": [],
   "source": [
    "#Explain more in details about Anaconda (pip, conda env) - libraries in general (geopandas)"
   ]
  },
  {
   "cell_type": "markdown",
   "metadata": {},
   "source": [
    "You can also import specific functions or constants from the module like below"
   ]
  },
  {
   "cell_type": "code",
   "execution_count": null,
   "metadata": {},
   "outputs": [],
   "source": [
    "from math import pi\n",
    "print(pi)"
   ]
  },
  {
   "cell_type": "markdown",
   "metadata": {},
   "source": [
    "## Calculating Distance\n",
    "\n",
    "Given 2 points with their Latitude and Longitude coordinates, the Haversine Formula calculates the straight-line distance in meters, assuming that Earth is a sphere.\n",
    "\n",
    "The formula is simple enough to be implemented in a spreadsheet too. If you are curious, see [my post](https://spatialthoughts.com/2013/07/06/calculate-distance-spreadsheet/) about using this formula for calculating distances in a spreadsheet."
   ]
  },
  {
   "cell_type": "markdown",
   "metadata": {},
   "source": [
    "We can write a function that accepts a pair of origin and destination coordinates and computes the distance."
   ]
  },
  {
   "cell_type": "code",
   "execution_count": null,
   "metadata": {},
   "outputs": [],
   "source": [
    "san_francisco = (37.7749, -122.4194)\n",
    "new_york = (40.661, -73.944)"
   ]
  },
  {
   "cell_type": "code",
   "execution_count": null,
   "metadata": {},
   "outputs": [],
   "source": [
    "def haversine_distance(origin, destination):\n",
    "  lat1, lon1 = origin\n",
    "  lat2, lon2 = destination\n",
    "  radius = 6371000\n",
    "  dlat = math.radians(lat2-lat1)\n",
    "  dlon = math.radians(lon2-lon1)\n",
    "  a = math.sin(dlat/2) * math.sin(dlat/2) + math.cos(math.radians(lat1)) \\\n",
    "    * math.cos(math.radians(lat2)) * math.sin(dlon/2) * math.sin(dlon/2)\n",
    "  c = 2 * math.atan2(math.sqrt(a), math.sqrt(1-a))\n",
    "  distance = radius * c\n",
    "  return distance"
   ]
  },
  {
   "cell_type": "code",
   "execution_count": null,
   "metadata": {},
   "outputs": [],
   "source": [
    "distance = haversine_distance(san_francisco, new_york)\n",
    "print(distance/1000, 'km')"
   ]
  },
  {
   "cell_type": "markdown",
   "metadata": {},
   "source": [
    "## Discover Python Easter Eggs\n",
    "\n",
    "Programmers love to hide secret jokes in their programs for gun. These are known as *Easter Eggs*. Python has an easter egg that you can see when you try to import the module named `this`. Try writing the command `import this` below."
   ]
  },
  {
   "cell_type": "code",
   "execution_count": null,
   "metadata": {},
   "outputs": [],
   "source": [
    "import this"
   ]
  },
  {
   "cell_type": "markdown",
   "metadata": {},
   "source": [
    "Let's try one more. Try importing the `antigravity` module."
   ]
  },
  {
   "cell_type": "markdown",
   "metadata": {},
   "source": [
    "Here's a complete list of [easter eggs in Python](https://towardsdatascience.com/7-easter-eggs-in-python-7765dc15a203)."
   ]
  },
  {
   "cell_type": "markdown",
   "metadata": {},
   "source": [
    "## Exercise\n",
    "\n",
    "Find the coordinates of 2 cities near you and calculate the distance between them by calling the `haversine_distance` function below."
   ]
  },
  {
   "cell_type": "code",
   "execution_count": null,
   "metadata": {},
   "outputs": [],
   "source": [
    "def haversine_distance(origin, destination):\n",
    "  lat1, lon1 = origin\n",
    "  lat2, lon2 = destination\n",
    "  radius = 6371000\n",
    "  dlat = math.radians(lat2-lat1)\n",
    "  dlon = math.radians(lon2-lon1)\n",
    "  a = math.sin(dlat/2) * math.sin(dlat/2) + math.cos(math.radians(lat1)) \\\n",
    "    * math.cos(math.radians(lat2)) * math.sin(dlon/2) * math.sin(dlon/2)\n",
    "  c = 2 * math.atan2(math.sqrt(a), math.sqrt(1-a))\n",
    "  distance = radius * c\n",
    "  return distance\n",
    "\n",
    "# city1 = (lat1, lng1)\n",
    "# city2 = (lat2, lng2)\n",
    "# call the function and print the result"
   ]
  },
  {
   "cell_type": "markdown",
   "metadata": {},
   "source": [
    "# 7.Third-party Modules\n",
    "\n",
    "Python has a thriving ecosystem of third-party modules (i.e. libraries or packages) available for you to install. There are hundreds of thousands of such modules available for you to install and use.\n",
    "\n",
    "## Installing third-party libraries\n",
    "\n",
    "Python comes with a package manager called `pip`. It can install all the packages listed at [PyPI (Python Package Index)](https://pypi.org/). To install a package using pip, you need to run a command like following in a Terminal or CMD prompt.\n",
    "\n",
    "`pip install <package name>`\n",
    "\n",
    "For this course, we are using Anancoda platform - which comes with its own package manager called `conda`. You can use Anaconda Navigator to search and install packages. Or run the command like following in a Terminal or CMD Prompt.\n",
    "\n",
    "`conda install <package name>`\n",
    "\n",
    "See this [comparison of pip and conda](https://www.anaconda.com/blog/understanding-conda-and-pip) to understand the differences."
   ]
  },
  {
   "cell_type": "markdown",
   "metadata": {},
   "source": [
    "## Calculating Distance"
   ]
  },
  {
   "cell_type": "markdown",
   "metadata": {},
   "source": [
    "We have already installed the `geopy` package in our environment. `geopy` comes with functions that have already implemented many distance calculation formulae.\n",
    "\n",
    "- `distance.great_circle()`: Calculates the distance on a great circle using haversine formula\n",
    "- `distance.geodesic()`: Calculates the distance using a chosen ellipsoid using vincenty's formula"
   ]
  },
  {
   "cell_type": "code",
   "execution_count": null,
   "metadata": {},
   "outputs": [],
   "source": [
    "from geopy import distance\n",
    "\n",
    "san_francisco = (37.7749, -122.4194)\n",
    "new_york = (40.661, -73.944)\n",
    "\n",
    "straight_line_distance = distance.great_circle(san_francisco, new_york)\n",
    "ellipsoid_distance = distance.geodesic(san_francisco, new_york, ellipsoid='WGS-84')\n",
    "\n",
    "print(straight_line_distance, ellipsoid_distance)"
   ]
  },
  {
   "cell_type": "markdown",
   "metadata": {},
   "source": [
    "## Exercise\n",
    "\n",
    "Repeat the distance calculation exercise from the previous module but perform the calculation using the geopy library."
   ]
  },
  {
   "cell_type": "code",
   "execution_count": null,
   "metadata": {},
   "outputs": [],
   "source": [
    "from geopy import distance\n",
    "\n",
    "# city1 = (lat1, lng1)\n",
    "# city2 = (lat2, lng2)\n",
    "# call the geopy distance function and print the great circle and ellipsoid distance"
   ]
  },
  {
   "cell_type": "markdown",
   "metadata": {},
   "source": [
    "# 8.Using Web APIs"
   ]
  },
  {
   "cell_type": "markdown",
   "metadata": {},
   "source": [
    "An API, or Application Program Interface, allows one program to *talk* to another program. Many websites or services provide an API so you can query for information in an automated way. \n",
    "\n",
    "For mapping and spatial analysis, being able to use APIs is critical. For the longest time, Google Maps API was the most popular API on the web. APIs allow you to query web servers and get results without downloading data or running computation on your machine. \n",
    "\n",
    "Common use cases for using APIs for spatial analysis are\n",
    "\n",
    "- Getting directions / routing\n",
    "- Route optimization\n",
    "- Geocoding\n",
    "- Downloading data\n",
    "- Getting real-time weather data\n",
    "- ...\n",
    "\n",
    "The provide of such APIs have many ways to implement an API. There are standards such as REST, SOAP, GraphQL etc. *REST* is the most populat standard for web APIs, and for geospatial APIs. REST APIs are used over HTTP and thus called web APIs."
   ]
  },
  {
   "cell_type": "markdown",
   "metadata": {},
   "source": [
    "## Understanding JSON and GeoJSON\n",
    "\n",
    "JSON stands for **J**ava**S**cript **O**bject **N**otation. It is a format for storing and transporting data, and is the de-facto standard for data exchanged by APIs. GeoJSON is an extension of the JSON format that is commonly used to represent spatial data.\n",
    "\n",
    "Python has a built-in `json` module that has methods for reading json data and converting it to Python objects, and vice-versa. In this example, we are using the `requests` module for querying the API which conveniently does the conversion for us. But it is useful to learn the basics of working with JSON in Python."
   ]
  },
  {
   "cell_type": "code",
   "execution_count": null,
   "metadata": {},
   "outputs": [],
   "source": [
    "geojson_string = '''\n",
    "{\n",
    "  \"type\": \"FeatureCollection\",\n",
    "  \"features\": [\n",
    "    {\"type\": \"Feature\",\n",
    "      \"properties\": {\"name\": \"San Francisco\"},\n",
    "      \"geometry\": {\"type\": \"Point\", \"coordinates\": [-121.5687, 37.7739]}\n",
    "    }\n",
    "  ]\n",
    "}\n",
    "'''\n",
    "print(geojson_string)"
   ]
  },
  {
   "cell_type": "code",
   "execution_count": null,
   "metadata": {},
   "outputs": [],
   "source": [
    "To convert a JSON string to a Python object (i.e. parsing JSON), we can use the `json.loads()` method."
   ]
  },
  {
   "cell_type": "code",
   "execution_count": null,
   "metadata": {},
   "outputs": [],
   "source": [
    "import json\n",
    "\n",
    "data = json.loads(geojson_string)\n",
    "print(type(data))\n",
    "print(data)"
   ]
  },
  {
   "cell_type": "markdown",
   "metadata": {},
   "source": [
    "Now that we have parsed the GeoJSON string and have a Python object, we can extract infromation from it. The data is stored in a FeatureCollection - which is a list of features. In our example, we have just 1 feature inside the feature collection, so we can access it by using index **0**."
   ]
  },
  {
   "cell_type": "code",
   "execution_count": null,
   "metadata": {},
   "outputs": [],
   "source": [
    "city_data = data['features'][0]\n",
    "print(city_data)"
   ]
  },
  {
   "cell_type": "markdown",
   "metadata": {},
   "source": [
    "## The `requests` module\n",
    "\n",
    "To query a server, we send a **GET** request with some parameters and the server sends a response back. The `requests` module allows you to send HTTP requests and parse the responses using Python. \n",
    "\n",
    "The response contains the data received from the server. It contains the HTTP *status_code* which tells us if the request was successful. HTTP code 200 stands for *Sucess OK*."
   ]
  },
  {
   "cell_type": "code",
   "execution_count": null,
   "metadata": {},
   "outputs": [],
   "source": [
    "import requests\n",
    "\n",
    "response = requests.get('https://www.spatialthoughts.com')\n",
    "\n",
    "print(response.status_code)"
   ]
  },
  {
   "cell_type": "markdown",
   "metadata": {},
   "source": [
    "## Calculating Distance using OpenRouteService API"
   ]
  },
  {
   "cell_type": "markdown",
   "metadata": {},
   "source": [
    "[OpenRouteService (ORS)](https://openrouteservice.org/) provides a free API for routing, distance matrix, geocoding, route optimization etc. using OpenStreetMap data. We will learn how to use this API through Python and get real-world distance between cities."
   ]
  },
  {
   "cell_type": "markdown",
   "metadata": {},
   "source": [
    "Almost all APIs require you to sign-up and obtain a *key*. The *key* is used to identify you and enforce usage limits so that you do not overwhelm the servers. We will obtain a key from OpenRouteServie so we can use their API\n",
    "\n",
    "Visit [OpenRouteService Sign-up page](https://openrouteservice.org/dev/#/signup) and create an account. Once your account is activated, visit your Dashboard and request a token. Select *Standard* as the Token type and enter ``python_foundation`` as the Token name. Click *CREATE TOKEN*. Once created, copy the long string displayed under Key and enter below."
   ]
  },
  {
   "cell_type": "markdown",
   "metadata": {},
   "source": [
    "ORS_API_KEY = '<replace this with your key>'"
   ]
  },
  {
   "cell_type": "markdown",
   "metadata": {},
   "source": [
    "We will use the OpenRouteServices's [Directions Service](https://openrouteservice.org/dev/#/api-docs/v2/directions/{profile}/get). This service returns the driving, biking or walking directions between the given origin and destination points."
   ]
  },
  {
   "cell_type": "code",
   "execution_count": null,
   "metadata": {},
   "outputs": [],
   "source": [
    "import requests\n",
    "\n",
    "san_francisco = (37.7749, -122.4194)\n",
    "new_york = (40.661, -73.944)\n",
    "\n",
    "parameters = {\n",
    "    'api_key': ORS_API_KEY,\n",
    "    'start' : '{},{}'.format(san_francisco[1], san_francisco[0]),\n",
    "    'end' : '{},{}'.format(new_york[1], new_york[0])\n",
    "}\n",
    "\n",
    "response = requests.get(\n",
    "    'https://api.openrouteservice.org/v2/directions/driving-car', params=parameters)\n",
    "\n",
    "if response.status_code == 200:\n",
    "    print('Request successful.')\n",
    "    data = response.json()\n",
    "else:\n",
    "    print('Request failed.')"
   ]
  },
  {
   "cell_type": "markdown",
   "metadata": {},
   "source": [
    "We can read the `response` in JSON format by calling `json()` method on it."
   ]
  },
  {
   "cell_type": "code",
   "execution_count": null,
   "metadata": {},
   "outputs": [],
   "source": [
    "data = response.json()"
   ]
  },
  {
   "cell_type": "markdown",
   "metadata": {},
   "source": [
    "The response is a GeoJSON object representing the driving direction between the 2 points. The object is a feature collection with just 1 feature. We can access it using the index **0**. The feature's property contains `summary` information which has the data we need. "
   ]
  },
  {
   "cell_type": "code",
   "execution_count": null,
   "metadata": {},
   "outputs": [],
   "source": [
    "summary = data['features'][0]['properties']['summary']\n",
    "print(summary)"
   ]
  },
  {
   "cell_type": "markdown",
   "metadata": {},
   "source": [
    "We can extract the `distance` and convert it to kilometers."
   ]
  },
  {
   "cell_type": "code",
   "execution_count": null,
   "metadata": {},
   "outputs": [],
   "source": [
    "distance = summary['distance']\n",
    "print(distance/1000)"
   ]
  },
  {
   "cell_type": "markdown",
   "metadata": {},
   "source": [
    "You can compare this distance to the straight-line distance and see the difference."
   ]
  },
  {
   "cell_type": "markdown",
   "metadata": {},
   "source": [
    "## API Rate Limiting\n",
    "\n",
    "Many web APIs enforce *rate limiting* - allowing a limited number of requests over time. With computers it is easy to write a for loop, or have multiple programs send hundrends or thousands of queries per second. The server may not be configured to handle such volume. So the providers specify the limits on how many and how fast the queries can be sent. \n",
    "\n",
    "OpenRouteService lists several [API Restrictions](https://openrouteservice.org/plans/). The free plan allows for upto 40 direction requests/minute. \n",
    "\n",
    "There are many libraries available to implement various strategies for rate limiting. But we can use the built-in `time` module to implement a very simple rate limiting method."
   ]
  },
  {
   "cell_type": "markdown",
   "metadata": {},
   "source": [
    "### The `time` module\n",
    "\n",
    "Python Standard Library has a `time` module that allows for time related operation. It contains a method `time.sleep()` which delays the execution of the program for the specified number of seconds.\n"
   ]
  },
  {
   "cell_type": "code",
   "execution_count": null,
   "metadata": {},
   "outputs": [],
   "source": [
    "import time\n",
    "for x in range(10):\n",
    "    print(x)\n",
    "    time.sleep(1)"
   ]
  },
  {
   "cell_type": "markdown",
   "metadata": {},
   "source": [
    "## Exercise\n",
    "\n",
    "Below cell contains a dictionary with 3 destination cities and their coordinates. Write a `for` loop to iterate over the `destination_cities` disctionary and call `get_driving_distance()` function to print real driving distance between San Fransico and each city. Rate limit your queries by adding `time.sleep(2)` between successive function calls."
   ]
  },
  {
   "cell_type": "code",
   "execution_count": null,
   "metadata": {},
   "outputs": [],
   "source": [
    "import csv\n",
    "import os\n",
    "import requests\n",
    "import time\n",
    "ORS_API_KEY = '<replace this with your key>'\n",
    "\n",
    "def get_driving_distance(source_coordinates, dest_coordinates):\n",
    "    parameters = {\n",
    "    'api_key': ORS_API_KEY,\n",
    "    'start' : '{},{}'.format(source_coordinates[1], source_coordinates[0]),\n",
    "    'end' : '{},{}'.format(dest_coordinates[1], dest_coordinates[0])\n",
    "    }\n",
    "\n",
    "    response = requests.get(\n",
    "        'https://api.openrouteservice.org/v2/directions/driving-car', params=parameters)\n",
    "\n",
    "    if response.status_code == 200:\n",
    "        data = response.json()\n",
    "        summary = data['features'][0]['properties']['summary']\n",
    "        distance = summary['distance']\n",
    "        return distance/1000\n",
    "    else:\n",
    "        print('Request failed.')\n",
    "        return -9999\n",
    "\n",
    "san_francisco = (37.7749, -122.4194)\n",
    "\n",
    "destination_cities = {\n",
    "    'Los Angeles': (34.0522, -118.2437),\n",
    "    'Boston': (42.3601, -71.0589),\n",
    "    'Atlanta': (33.7490, -84.3880)\n",
    "}"
   ]
  },
  {
   "cell_type": "markdown",
   "metadata": {},
   "source": [
    "# 9.Reading Files\n",
    "\n",
    "Python provides built-in functions for reading and writing files.  "
   ]
  },
  {
   "cell_type": "markdown",
   "metadata": {},
   "source": [
    "To read a file, we must know the path of the file on the disk. Python has a module called `os` that has helper functions that helps dealing with the the operating system. Advantage of using the `os` module is that the code you write will work without change on any suppored operating systems."
   ]
  },
  {
   "cell_type": "code",
   "execution_count": null,
   "metadata": {},
   "outputs": [],
   "source": [
    "import os"
   ]
  },
  {
   "cell_type": "markdown",
   "metadata": {},
   "source": [
    "To open a file, we need to know the path to the file. We will now open and read the file `worldcitites.csv` located in your data package. In your data package the data folder is in the `data/` directory. We can construct the relative path to the file using the `os.path.join()` method."
   ]
  },
  {
   "cell_type": "code",
   "execution_count": null,
   "metadata": {},
   "outputs": [],
   "source": [
    "data_pkg_path = 'data'\n",
    "filename = 'worldcities.csv'\n",
    "path = os.path.join(data_pkg_path, filename)\n",
    "print(path)"
   ]
  },
  {
   "cell_type": "markdown",
   "metadata": {},
   "source": [
    "To open the file, use the built-in `open()` function. We specify the *mode* as `r` which means read-only. If we wanted to change the file contents or write a new file, we would open it with `w` mode.\n",
    "\n",
    "Our input file also contains Unicode characters, so we specify `UTF-8` as the encoding.\n",
    "\n",
    "The open() function returns a file object. We can call the  `readline()` method for reading the content of the file, one line at a time.\n",
    "\n",
    "It is a good practice to always close the file when you are done with it. To close the file, we must call the `close()` method on the file object."
   ]
  },
  {
   "cell_type": "code",
   "execution_count": null,
   "metadata": {},
   "outputs": [],
   "source": [
    "f = open(path, 'r', encoding='utf-8')\n",
    "print(f.readline())\n",
    "print(f.readline())\n",
    "f.close()"
   ]
  },
  {
   "cell_type": "markdown",
   "metadata": {},
   "source": [
    "Calling `readline()` for each line of the file is tedious. Ideally, we want to loop through all the lines in file. You can iterate through the file object like below.\n",
    "\n",
    "We can loop through each line of the file and increase the `count` variable by 1 for each iteration of the loop. At the end, the count variable's value will be equal to the number of lines in the file."
   ]
  },
  {
   "cell_type": "code",
   "execution_count": null,
   "metadata": {},
   "outputs": [],
   "source": [
    "f = open(path, 'r', encoding='utf-8')\n",
    "\n",
    "count = 0\n",
    "for line in f:\n",
    "    count += 1\n",
    "f.close()\n",
    "print(count)"
   ]
  },
  {
   "cell_type": "markdown",
   "metadata": {},
   "source": [
    "## Exercise\n",
    "\n",
    "Print first 5 lines of the file. \n",
    "\n",
    "- Hint: Use break statement"
   ]
  },
  {
   "cell_type": "code",
   "execution_count": null,
   "metadata": {},
   "outputs": [],
   "source": [
    "import os\n",
    "data_pkg_path = 'data'\n",
    "filename = 'worldcities.csv'\n",
    "path = os.path.join(data_pkg_path, filename)\n",
    "\n",
    "# Add code to open the file and read first 5 lines"
   ]
  },
  {
   "cell_type": "markdown",
   "metadata": {},
   "source": [
    "# 10.Reading CSV Files"
   ]
  },
  {
   "cell_type": "markdown",
   "metadata": {},
   "source": [
    "Comma-separated Values (CSV) are the most common text-based file format for sharing geospatial data. The structure of the file is 1 data record per line, with individual *columns* separated by a comma. \n",
    "\n",
    "In general, the separator character is called a delimiter. Other popular delimiters include the tab (\\\\t), colon (:) and semi-colon (;) characters. \n",
    "\n",
    "Reading CSV file properly requires us to know which delimiter is being used, along with quote character to surround the field values that contain space of the delimiter character. Since reading delimited text file is a very common operation, and can be tricky to handle all the corner cases, Python comes with its own library called `csv` for easy reading and writing of CSV files. To use it, you just have to import it."
   ]
  },
  {
   "cell_type": "code",
   "execution_count": null,
   "metadata": {},
   "outputs": [],
   "source": [
    "import csv"
   ]
  },
  {
   "cell_type": "markdown",
   "metadata": {},
   "source": [
    "The preferred way to read CSV files is using the `DictReader()` method. Which directly reads each row and creates a dictionary from it - with column names as *key* and column values as *value*. Let's see how to read a file using the `csv.DictReader()` method."
   ]
  },
  {
   "cell_type": "code",
   "execution_count": null,
   "metadata": {},
   "outputs": [],
   "source": [
    "import os\n",
    "data_pkg_path = 'data'\n",
    "filename = 'worldcities.csv'\n",
    "path = os.path.join(data_pkg_path, filename)"
   ]
  },
  {
   "cell_type": "code",
   "execution_count": null,
   "metadata": {},
   "outputs": [],
   "source": [
    "f = open(path, 'r')\n",
    "csv_reader = csv.DictReader(f, delimiter=',', quotechar='\"')\n",
    "print(csv_reader)\n",
    "f.close()"
   ]
  },
  {
   "cell_type": "markdown",
   "metadata": {},
   "source": [
    "## Using `enumerate()` function\n",
    "\n",
    "When iterating over an object, many times we need a counter. We saw in the previous example, how to use a variable like `count` and increase it with every iteration. There is an easy way to do this using the built-in `enumerate()` function."
   ]
  },
  {
   "cell_type": "code",
   "execution_count": null,
   "metadata": {},
   "outputs": [],
   "source": [
    "cities = ['San Francisco', 'Los Angeles', 'New York', 'Atlanta']\n",
    "for x in enumerate(cities):\n",
    "    print(x)"
   ]
  },
  {
   "cell_type": "markdown",
   "metadata": {},
   "source": [
    "We can use enumerate() on any iterable object and get a tuple with an index and the iterable value with each iteration. Let's use it to print the first 5 lines from the DictReader object."
   ]
  },
  {
   "cell_type": "code",
   "execution_count": null,
   "metadata": {},
   "outputs": [],
   "source": [
    "f = open(path, 'r', encoding='utf-8')\n",
    "csv_reader = csv.DictReader(f, delimiter=',', quotechar='\"')\n",
    "for index, row in enumerate(csv_reader):\n",
    "    print(row)\n",
    "    if index == 4:\n",
    "        break\n",
    "f.close()"
   ]
  },
  {
   "cell_type": "markdown",
   "metadata": {},
   "source": [
    "## Using `with` statement"
   ]
  },
  {
   "cell_type": "markdown",
   "metadata": {},
   "source": [
    "The code for file handling requires we open a file, do something with the file object and then close the file. That is tedious and it is possible that you may forget to call `close()` on the file. If the code for processing encounters an error the file is not closed property, it may result in bugs - especially when writing files.\n",
    "\n",
    "The preferred way to work with file objects is using the `with` statement. It results in simpler and cleaer code - which also ensures file objects are closed properly in case of errors.\n",
    "\n",
    "As you see below, we open the file and use the file object `f` in a `with` statement. Python takes care of closing the file when the execution of code within the statement is complete."
   ]
  },
  {
   "cell_type": "code",
   "execution_count": null,
   "metadata": {},
   "outputs": [],
   "source": [
    "with open(path, 'r', encoding='utf-8') as f:\n",
    "    csv_reader = csv.DictReader(f)"
   ]
  },
  {
   "cell_type": "markdown",
   "metadata": {},
   "source": [
    "## Filtering rows\n",
    "\n",
    "We can use conditional statement while iterating over the rows, to select and process rows that meet certain criterial. Let's count how many cities from a particular country are present in the file.\n",
    "\n",
    "Replace the `home_country` variable with your home country below."
   ]
  },
  {
   "cell_type": "code",
   "execution_count": null,
   "metadata": {},
   "outputs": [],
   "source": [
    "home_country = 'India'\n",
    "num_cities = 0\n",
    "\n",
    "with open(path, 'r', encoding='utf-8') as f:\n",
    "    csv_reader = csv.DictReader(f)\n",
    "\n",
    "    for row in csv_reader:\n",
    "        if row['country'] == home_country:\n",
    "            num_cities += 1\n",
    "            \n",
    "print(num_cities)"
   ]
  },
  {
   "cell_type": "markdown",
   "metadata": {},
   "source": [
    "## Calculating distance\n",
    "\n",
    "Let's apply the skills we have learnt so far to solve a complete problem. We want to read the `worldcities.csv` file, find all cities within a home country, calculate the distance to each cities from a home city and write the results to a new CSV file."
   ]
  },
  {
   "cell_type": "markdown",
   "metadata": {},
   "source": [
    "First we find the coordinates of the out selected `home_city` from the file. Replace the `home_city` below with your hometown or a large city within your country. Note that we are using the `city_ascii` field for city name comparison, so make sure the `home_city` variable contains the ASCII version of the city name."
   ]
  },
  {
   "cell_type": "code",
   "execution_count": null,
   "metadata": {},
   "outputs": [],
   "source": [
    "home_city = 'Bengaluru'\n",
    "\n",
    "home_city_coordinates = ()\n",
    "\n",
    "with open(path, 'r', encoding='utf-8') as f:\n",
    "    csv_reader = csv.DictReader(f)\n",
    "    for row in csv_reader:\n",
    "        if row['city_ascii'] == home_city:\n",
    "            lat = row['lat']\n",
    "            lng = row['lng']\n",
    "            home_city_coordinates = (lat, lng)\n",
    "            break\n",
    "        \n",
    "print(home_city_coordinates)"
   ]
  },
  {
   "cell_type": "markdown",
   "metadata": {},
   "source": [
    "Now we can loop through the file, find a city in the chosen home country and call the `geopy.distance.geodesic()` function to calculate the distance. In the code below, we are just computing first 5 matches."
   ]
  },
  {
   "cell_type": "code",
   "execution_count": null,
   "metadata": {},
   "outputs": [],
   "source": [
    "from geopy import distance\n",
    "\n",
    "counter = 0\n",
    "with open(path, 'r', encoding='utf-8') as f:\n",
    "    csv_reader = csv.DictReader(f)\n",
    "    for row in csv_reader:\n",
    "        if (row['country'] == home_country and\n",
    "            row['city_ascii'] != home_city):\n",
    "            city_coordinates = (row['lat'], row['lng'])\n",
    "            city_distance = distance.geodesic(\n",
    "                city_coordinates, home_city_coordinates).km\n",
    "            print(row['city_ascii'], city_distance)\n",
    "            counter += 1\n",
    "            \n",
    "        if counter == 5:\n",
    "            break"
   ]
  },
  {
   "cell_type": "markdown",
   "metadata": {},
   "source": [
    "## Writing files\n",
    "\n",
    "Instead of printing the results, let's write the results to a new file. Similar to csv.DictReader(), there is a companion `csv.DictWriter()` method to write files. We create a `csv_writer` object and then write rows to it using the `writerow()` method."
   ]
  },
  {
   "cell_type": "markdown",
   "metadata": {},
   "source": [
    "First we create an `output` folder to save the results. We can first check if the folder exists and if it doesn't exist, we can create it."
   ]
  },
  {
   "cell_type": "code",
   "execution_count": null,
   "metadata": {},
   "outputs": [],
   "source": [
    "output_dir = 'output'\n",
    "if not os.path.exists(output_dir):\n",
    "    os.mkdir(output_dir)"
   ]
  },
  {
   "cell_type": "code",
   "execution_count": null,
   "metadata": {},
   "outputs": [],
   "source": [
    "output_filename = 'cities_distance.csv'\n",
    "output_path = os.path.join(output_dir, output_filename)\n",
    "\n",
    "with open(output_path, mode='w', encoding='utf-8') as output_file:\n",
    "    fieldnames = ['city', 'distance_from_home']\n",
    "    csv_writer = csv.DictWriter(output_file, fieldnames=fieldnames)\n",
    "    csv_writer.writeheader()\n",
    "    \n",
    "    # Now we read the input file, calculate distance and\n",
    "    # write a row to the output \n",
    "    with open(path, 'r', encoding='utf-8') as f:\n",
    "        csv_reader = csv.DictReader(f)\n",
    "        for row in csv_reader:\n",
    "            if (row['country'] == home_country and\n",
    "                row['city_ascii'] != home_city):\n",
    "                city_coordinates = (row['lat'], row['lng'])\n",
    "                city_distance = distance.geodesic(\n",
    "                    city_coordinates, home_city_coordinates).km\n",
    "                csv_writer.writerow(\n",
    "                    {'city': row['city_ascii'],\n",
    "                     'distance_from_home': city_distance}\n",
    "                )"
   ]
  },
  {
   "cell_type": "markdown",
   "metadata": {},
   "source": [
    "Below is the complete code for our task of reading a file, filtering it, calculating distance and writing the results to a file."
   ]
  },
  {
   "cell_type": "code",
   "execution_count": null,
   "metadata": {},
   "outputs": [],
   "source": [
    "import csv\n",
    "import os\n",
    "from geopy import distance\n",
    "\n",
    "data_pkg_path = 'data'\n",
    "input_filename = 'worldcities.csv'\n",
    "input_path = os.path.join(data_pkg_path, input_filename)\n",
    "output_filename = 'cities_distance.csv'\n",
    "output_dir = 'output'\n",
    "output_path = os.path.join(output_dir, output_filename)\n",
    "\n",
    "if not os.path.exists(output_dir):\n",
    "    os.mkdir(output_dir)\n",
    "    \n",
    "home_city = 'Bengaluru'\n",
    "home_country = 'India'\n",
    "\n",
    "with open(input_path, 'r', encoding='utf-8') as input_file:\n",
    "    csv_reader = csv.DictReader(input_file)\n",
    "    for row in csv_reader:\n",
    "        if row['city_ascii'] == home_city:\n",
    "            home_city_coordinates = (row['lat'], row['lng'])\n",
    "            break\n",
    "\n",
    "with open(output_path, mode='w') as output_file:\n",
    "    fieldnames = ['city', 'distance_from_home']\n",
    "    csv_writer = csv.DictWriter(output_file, fieldnames=fieldnames)\n",
    "    csv_writer.writeheader()\n",
    "\n",
    "    with open(input_path, 'r', encoding='utf-8') as input_file:\n",
    "        csv_reader = csv.DictReader(input_file)\n",
    "        for row in csv_reader:\n",
    "            if (row['country'] == home_country and\n",
    "                row['city_ascii'] != home_city):\n",
    "                city_coordinates = (row['lat'], row['lng'])\n",
    "                city_distance = distance.geodesic(\n",
    "                    city_coordinates, home_city_coordinates).km\n",
    "                csv_writer.writerow(\n",
    "                    {'city': row['city_ascii'],\n",
    "                     'distance_from_home': city_distance}\n",
    "                )\n",
    "print('Successfully written output file at {}'.format(output_path))"
   ]
  },
  {
   "cell_type": "markdown",
   "metadata": {},
   "source": [
    "## Exercise\n",
    "\n",
    "Replace the `home_city` and `home_country` variables with your own home city and home country and create a CSV file containing distance from your home city to every other city in your country."
   ]
  },
  {
   "cell_type": "markdown",
   "metadata": {},
   "source": [
    "## -End of Section 1-"
   ]
  }
 ],
 "metadata": {
  "kernelspec": {
   "display_name": "Python 3 (ipykernel)",
   "language": "python",
   "name": "python3"
  },
  "language_info": {
   "codemirror_mode": {
    "name": "ipython",
    "version": 3
   },
   "file_extension": ".py",
   "mimetype": "text/x-python",
   "name": "python",
   "nbconvert_exporter": "python",
   "pygments_lexer": "ipython3",
   "version": "3.8.13"
  }
 },
 "nbformat": 4,
 "nbformat_minor": 4
}
