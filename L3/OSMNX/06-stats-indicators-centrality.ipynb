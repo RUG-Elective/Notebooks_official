{
 "cells": [
  {
   "cell_type": "markdown",
   "metadata": {},
   "source": [
    "# Use OSMnx to calculate street network indicators\n",
    "\n",
    "Author: [Geoff Boeing](https://geoffboeing.com/)\n",
    "\n",
    "  - [Overview of OSMnx](http://geoffboeing.com/2016/11/osmnx-python-street-networks/)\n",
    "  - [GitHub repo](https://github.com/gboeing/osmnx)\n",
    "  - [Examples, demos, tutorials](https://github.com/gboeing/osmnx-examples)\n",
    "  - [Documentation](https://osmnx.readthedocs.io/en/stable/)\n",
    "  - [Journal article/citation](http://geoffboeing.com/publications/osmnx-complex-street-networks/)"
   ]
  },
  {
   "cell_type": "code",
   "execution_count": 2,
   "metadata": {
    "jupyter": {
     "source_hidden": true
    },
    "tags": []
   },
   "outputs": [
    {
     "data": {
      "text/plain": [
       "'1.2.2'"
      ]
     },
     "execution_count": 2,
     "metadata": {},
     "output_type": "execute_result"
    }
   ],
   "source": [
    "import networkx as nx\n",
    "import osmnx as ox\n",
    "import pandas as pd\n",
    "\n",
    "%matplotlib inline\n",
    "ox.__version__"
   ]
  },
  {
   "cell_type": "markdown",
   "metadata": {},
   "source": [
    "## Calculate basic street network measures (topological and geometric)"
   ]
  },
  {
   "cell_type": "code",
   "execution_count": 3,
   "metadata": {},
   "outputs": [
    {
     "data": {
      "text/plain": [
       "1.0892710812246411"
      ]
     },
     "execution_count": 3,
     "metadata": {},
     "output_type": "execute_result"
    }
   ],
   "source": [
    "# get the network for Piedmont, calculate its basic stats, then show the average circuity\n",
    "stats = ox.basic_stats(ox.graph_from_place(\"Piedmont, California, USA\"))\n",
    "stats[\"circuity_avg\"]"
   ]
  },
  {
   "cell_type": "code",
   "execution_count": 12,
   "metadata": {
    "tags": []
   },
   "outputs": [],
   "source": [
    "#places = {\n",
    "#    \"Amsterdam\": \"Amsterdam, Netherlands\",\n",
    "#}"
   ]
  },
  {
   "cell_type": "code",
   "execution_count": 16,
   "metadata": {
    "tags": []
   },
   "outputs": [
    {
     "data": {
      "text/plain": [
       "3.4134858151301524"
      ]
     },
     "execution_count": 16,
     "metadata": {},
     "output_type": "execute_result"
    }
   ],
   "source": [
    "place = \"Groningen, Netherlands\"\n",
    "G = ox.graph_from_place(place)\n",
    "Gu = ox.add_edge_bearings(ox.get_undirected(G))\n",
    "entropy = float(ox.bearing.orientation_entropy(Gu, 36, 0, None))\n",
    "entropy"
   ]
  },
  {
   "cell_type": "code",
   "execution_count": 17,
   "metadata": {
    "tags": []
   },
   "outputs": [
    {
     "data": {
      "text/html": [
       "<div>\n",
       "<style scoped>\n",
       "    .dataframe tbody tr th:only-of-type {\n",
       "        vertical-align: middle;\n",
       "    }\n",
       "\n",
       "    .dataframe tbody tr th {\n",
       "        vertical-align: top;\n",
       "    }\n",
       "\n",
       "    .dataframe thead th {\n",
       "        text-align: right;\n",
       "    }\n",
       "</style>\n",
       "<table border=\"1\" class=\"dataframe\">\n",
       "  <thead>\n",
       "    <tr style=\"text-align: right;\">\n",
       "      <th></th>\n",
       "      <th>geometry</th>\n",
       "      <th>bbox_north</th>\n",
       "      <th>bbox_south</th>\n",
       "      <th>bbox_east</th>\n",
       "      <th>bbox_west</th>\n",
       "      <th>place_id</th>\n",
       "      <th>osm_type</th>\n",
       "      <th>osm_id</th>\n",
       "      <th>lat</th>\n",
       "      <th>lon</th>\n",
       "      <th>display_name</th>\n",
       "      <th>class</th>\n",
       "      <th>type</th>\n",
       "      <th>importance</th>\n",
       "    </tr>\n",
       "  </thead>\n",
       "  <tbody>\n",
       "    <tr>\n",
       "      <th>0</th>\n",
       "      <td>MULTIPOLYGON (((4.72876 52.40071, 4.73371 52.4...</td>\n",
       "      <td>52.431064</td>\n",
       "      <td>52.278174</td>\n",
       "      <td>5.079162</td>\n",
       "      <td>4.728756</td>\n",
       "      <td>298390163</td>\n",
       "      <td>relation</td>\n",
       "      <td>271110</td>\n",
       "      <td>52.37276</td>\n",
       "      <td>4.893604</td>\n",
       "      <td>Amsterdam, North Holland, Netherlands</td>\n",
       "      <td>boundary</td>\n",
       "      <td>administrative</td>\n",
       "      <td>0.946813</td>\n",
       "    </tr>\n",
       "  </tbody>\n",
       "</table>\n",
       "</div>"
      ],
      "text/plain": [
       "                                            geometry  bbox_north  bbox_south  \\\n",
       "0  MULTIPOLYGON (((4.72876 52.40071, 4.73371 52.4...   52.431064   52.278174   \n",
       "\n",
       "   bbox_east  bbox_west   place_id  osm_type  osm_id       lat       lon  \\\n",
       "0   5.079162   4.728756  298390163  relation  271110  52.37276  4.893604   \n",
       "\n",
       "                            display_name     class            type  importance  \n",
       "0  Amsterdam, North Holland, Netherlands  boundary  administrative    0.946813  "
      ]
     },
     "execution_count": 17,
     "metadata": {},
     "output_type": "execute_result"
    }
   ],
   "source": [
    "# verify OSMnx geocodes each query to what you expect (i.e., a [multi]polygon geometry)\n",
    "gdf = ox.geocode_to_gdf(list(places.values()))\n",
    "gdf"
   ]
  },
  {
   "cell_type": "code",
   "execution_count": null,
   "metadata": {},
   "outputs": [],
   "source": [
    "new_row = row.append(entropy.rename(\"entropy\"))\n",
    "gdf"
   ]
  },
  {
   "cell_type": "code",
   "execution_count": 6,
   "metadata": {
    "tags": []
   },
   "outputs": [
    {
     "data": {
      "text/plain": [
       "{0: 0.0,\n",
       " 1: 0.12064407594328286,\n",
       " 2: 0.002883922134102379,\n",
       " 3: 0.6431627012737323,\n",
       " 4: 0.22710886806056235,\n",
       " 5: 0.005479452054794521,\n",
       " 6: 0.0006729151646238885,\n",
       " 7: 4.806536890170632e-05}"
      ]
     },
     "execution_count": 6,
     "metadata": {},
     "output_type": "execute_result"
    }
   ],
   "source": [
    "junctions = ox.stats.streets_per_node_proportions(G)\n",
    "junctions"
   ]
  },
  {
   "cell_type": "markdown",
   "metadata": {},
   "source": [
    "To calculate density-based stats, you must also pass the network's bounding area in square meters (otherwise basic_stats() will just skip them in the calculation):"
   ]
  },
  {
   "cell_type": "code",
   "execution_count": 7,
   "metadata": {},
   "outputs": [
    {
     "data": {
      "text/plain": [
       "1.0665705365296683"
      ]
     },
     "execution_count": 7,
     "metadata": {},
     "output_type": "execute_result"
    }
   ],
   "source": [
    "straightness = ox.stats.circuity_avg(Gu)\n",
    "straightness"
   ]
  },
  {
   "cell_type": "code",
   "execution_count": null,
   "metadata": {
    "jupyter": {
     "source_hidden": true
    },
    "tags": []
   },
   "outputs": [],
   "source": [
    "# get the street network for a place, and its area in square meters\n",
    "place = \"Piedmont, California, USA\"\n",
    "gdf = ox.geocode_to_gdf(place)\n",
    "area = ox.project_gdf(gdf).unary_union.area\n",
    "G = ox.graph_from_place(place, network_type=\"drive\")"
   ]
  },
  {
   "cell_type": "code",
   "execution_count": null,
   "metadata": {},
   "outputs": [],
   "source": [
    "# calculate basic and extended network stats, merge them together, and display\n",
    "stats = ox.basic_stats(G, area=area)\n",
    "pd.Series(stats)"
   ]
  },
  {
   "cell_type": "markdown",
   "metadata": {},
   "source": [
    "Streets/intersection counts and proportions are nested dicts inside the stats dict. To convert these stats to a pandas dataframe (to compare/analyze multiple networks against each other), just unpack these nested dicts first:"
   ]
  },
  {
   "cell_type": "code",
   "execution_count": null,
   "metadata": {},
   "outputs": [],
   "source": [
    "# unpack dicts into individiual keys:values\n",
    "stats = ox.basic_stats(G, area=area)\n",
    "for k, count in stats[\"streets_per_node_counts\"].items():\n",
    "    stats[\"{}way_int_count\".format(k)] = count\n",
    "for k, proportion in stats[\"streets_per_node_proportions\"].items():\n",
    "    stats[\"{}way_int_prop\".format(k)] = proportion\n",
    "\n",
    "# delete the no longer needed dict elements\n",
    "del stats[\"streets_per_node_counts\"]\n",
    "del stats[\"streets_per_node_proportions\"]\n",
    "\n",
    "# load as a pandas dataframe\n",
    "pd.DataFrame(pd.Series(stats, name=\"value\")).round(3)"
   ]
  },
  {
   "cell_type": "markdown",
   "metadata": {},
   "source": [
    "### Inspect betweenness centrality"
   ]
  },
  {
   "cell_type": "code",
   "execution_count": null,
   "metadata": {},
   "outputs": [],
   "source": [
    "# calculate betweenness with a digraph of G (ie, no parallel edges)\n",
    "bc = nx.betweenness_centrality(ox.get_digraph(G), weight=\"length\")\n",
    "max_node, max_bc = max(bc.items(), key=lambda x: x[1])\n",
    "max_node, max_bc"
   ]
  },
  {
   "cell_type": "markdown",
   "metadata": {},
   "source": [
    "In the city of Piedmont, California, the node with the highest betweenness centrality has ~31% of all shortest paths running through it. Let's highlight it in the plot:"
   ]
  },
  {
   "cell_type": "code",
   "execution_count": null,
   "metadata": {},
   "outputs": [],
   "source": [
    "nc = [\"r\" if node == max_node else \"w\" for node in G.nodes]\n",
    "ns = [80 if node == max_node else 15 for node in G.nodes]\n",
    "fig, ax = ox.plot_graph(G, node_size=ns, node_color=nc, node_zorder=2)"
   ]
  },
  {
   "cell_type": "markdown",
   "metadata": {},
   "source": [
    "~30% of all shortest paths run through the node highlighted in red. Let's look at the relative betweenness centrality of every node in the graph:"
   ]
  },
  {
   "cell_type": "code",
   "execution_count": null,
   "metadata": {},
   "outputs": [],
   "source": [
    "# add the betweenness centraliy values as new node attributes, then plot\n",
    "nx.set_node_attributes(G, bc, \"bc\")\n",
    "nc = ox.plot.get_node_colors_by_attr(G, \"bc\", cmap=\"plasma\")\n",
    "fig, ax = ox.plot_graph(\n",
    "    G,\n",
    "    node_color=nc,\n",
    "    node_size=30,\n",
    "    node_zorder=2,\n",
    "    edge_linewidth=0.2,\n",
    "    edge_color=\"w\",\n",
    ")"
   ]
  },
  {
   "cell_type": "markdown",
   "metadata": {},
   "source": [
    "Above, the nodes are visualized by betweenness centrality, from low (dark violet) to high (light yellow). The colors in the colorspace are linearly mapped to the attribute values."
   ]
  }
 ],
 "metadata": {
  "anaconda-cloud": {},
  "kernelspec": {
   "display_name": "Python 3 (ipykernel)",
   "language": "python",
   "name": "python3"
  },
  "language_info": {
   "codemirror_mode": {
    "name": "ipython",
    "version": 3
   },
   "file_extension": ".py",
   "mimetype": "text/x-python",
   "name": "python",
   "nbconvert_exporter": "python",
   "pygments_lexer": "ipython3",
   "version": "3.10.8"
  }
 },
 "nbformat": 4,
 "nbformat_minor": 4
}
